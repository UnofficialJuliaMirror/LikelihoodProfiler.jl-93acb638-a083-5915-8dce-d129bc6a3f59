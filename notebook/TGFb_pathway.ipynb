{
 "cells": [
  {
   "cell_type": "markdown",
   "metadata": {},
   "source": [
    "## TGF-β Signaling Pathway Model"
   ]
  },
  {
   "cell_type": "markdown",
   "metadata": {},
   "source": [
    "This notebook studies parameters identifiability of the **TGF-β signaling pathway model** proposed in [Geier F, Fengos G, Felizzi F, Iber D. Analyzing and Constraining Signaling Networks](https://link.springer.com/book/10.1007%2F978-1-61779-833-7). Identifiability of this model was analyzed in this article \\[\\*\\] [Parameter identifiability analysis and visualization in large-scale kinetic models of biosystems](https://bmcsystbiol.biomedcentral.com/articles/10.1186/s12918-017-0428-y). We used the equations and datasets provided by the authors of this article in the use-cases of [visid](https://github.com/gabora/visid) software. Our goal is to compare *LikelihoodProfiler* results with the results of \\[\\*\\]. "
   ]
  },
  {
   "cell_type": "markdown",
   "metadata": {},
   "source": [
    "The following ODE system defines the **TGF-β signaling pathway model**"
   ]
  },
  {
   "cell_type": "code",
   "execution_count": 2,
   "metadata": {},
   "outputs": [],
   "source": [
    "using DiffEqBase, OrdinaryDiffEq, Sundials, CSV, Plots, NLopt, LikelihoodProfiler, DataFrames\n",
    "\n",
    "# ODE function\n",
    "function ode_func(du,u,p,t)\n",
    "    #parameters\n",
    "    k1, k2, k4, k5, k6, k7, k8, k9, k10, k11, k12, k13, k14, k15, k16, k17, k18, k19 = p\n",
    "    k3 = 0.01\n",
    "    k20 = 9000.\n",
    "    k21 = 1800.\n",
    "    \n",
    "    # concentrations (all concencentrations except I_Smad_mRNA1, I_Smad_mRNA2 are observed in the experiment)\n",
    "    TGFb, TGFbR, TGFb_TGFbR, TGFb_TGFbR_P, I_Smad_TGFb_TGFbR_P, Smad, Smad_P, CoSmad, Smad_P_Smad_P, Smad_P_CoSmad, \n",
    "    Smad_N, Smad_P_Smad_P_N, Smad_P_N, Smad_P_CoSmad_N, CoSmad_N, I_Smad, I_Smad_mRNA1, I_Smad_mRNA2 = u\n",
    "\n",
    "    # kinetic rates\n",
    "    r1 = k1*TGFb_TGFbR                                   \n",
    "    r2 = k2*TGFbR*TGFb                                   \n",
    "    r3 = k3*TGFb_TGFbR*(1-exp(-((t-k20)/(k21))^10))      \n",
    "    r4 = k4*TGFb_TGFbR_P                                 \n",
    "    r5 = k5*TGFb_TGFbR_P*I_Smad                          \n",
    "    r6 = k6*I_Smad_TGFb_TGFbR_P                          \n",
    "    r7 = k7*Smad*TGFb_TGFbR_P                            \n",
    "    r8 = k8*Smad                                         \n",
    "    r9 = k9*Smad_N                                       \n",
    "    r10 = k10*2*Smad_P*Smad_P                            \n",
    "    r11 = k11*Smad_P_Smad_P                              \n",
    "    r12 = k10*Smad_P*CoSmad                              \n",
    "    r13 = k11*Smad_P_CoSmad                              \n",
    "    r14 = k8*CoSmad                                      \n",
    "    r15 = k9*CoSmad_N                                    \n",
    "    r16 = k12*k8*Smad_P_Smad_P                           \n",
    "    r17 = k8*Smad_P                                      \n",
    "    r18 = k9*Smad_P_N                                    \n",
    "    r19 = k12*k8*Smad_P_CoSmad                           \n",
    "    r20 = k13*Smad_P_N                                   \n",
    "    r21 = k10*2*Smad_P_N*Smad_P_N                        \n",
    "    r22 = k11*Smad_P_Smad_P_N                            \n",
    "    r23 = k10*Smad_P_N*CoSmad_N                          \n",
    "    r24 = k11*Smad_P_CoSmad_N                            \n",
    "    r25 = k14*Smad_P_CoSmad_N^2/(Smad_P_CoSmad_N^2+k15^2)\n",
    "    r26 = k16*I_Smad_mRNA1                               \n",
    "    r27 = k17*I_Smad_mRNA2                               \n",
    "    r28 = k18*I_Smad_mRNA2                               \n",
    "    r29 = k19*I_Smad                                     \n",
    "        \n",
    "    # rhs\n",
    "    du[1] = r1-r2                                         \n",
    "    du[2] = r1-r2                                        \n",
    "    du[3] = -r1+r2-r3+r4+r6                         \n",
    "    du[4] = r3-r4-r5                              \n",
    "    du[5] = r5-r6                          \n",
    "    du[6] = -r7-r8+r9                                    \n",
    "    du[7] = r7-r10+r11-r12+r13-r17+r18                 \n",
    "    du[8] = -r12+r13-r14+r15                           \n",
    "    du[9] = r10-r11-r16                         \n",
    "    du[10] = r12-r13-r19                         \n",
    "    du[11] = r8-r9+r20                                  \n",
    "    du[12] = r16+r21-r22                       \n",
    "    du[13] = r17-r18-r20-r21+r22-r23+r24              \n",
    "    du[14] = r19+r23-r24                       \n",
    "    du[15] = r14-r15-r23+r24                          \n",
    "    du[16] = r28-r29-r5+r6                    \n",
    "    du[17] = r25-r26                            \n",
    "    du[18] = r26-r27\n",
    "end;"
   ]
  },
  {
   "cell_type": "markdown",
   "metadata": {},
   "source": [
    "Initial conditions, estimated parameter values, and time points are taken from [visid repo](https://github.com/gabora/visid/blob/53c5f390f6b0459978c076ace01a4b5f7c165094/case_studies/tgfb/TGFB_amigo.m)"
   ]
  },
  {
   "cell_type": "code",
   "execution_count": 3,
   "metadata": {},
   "outputs": [],
   "source": [
    "# initial conditions, nominal parameter values and timepoints\n",
    "# https://github.com/gabora/visid/blob/master/case_studies/tgfb/TGFB_amigo.m\n",
    "u0 = [\n",
    "    1., \n",
    "    1., \n",
    "    -1.3645e-017, \n",
    "    -1.3645e-017, \n",
    "    -1.0333e-034, \n",
    "    40.976, \n",
    "    3.5121e-011, \n",
    "    34.146, \n",
    "    2.3805e-021, \n",
    "    -5.2419e-011, \n",
    "    19.024,\n",
    "    1.0252e-018,\n",
    "    6.218e-011,\n",
    "    4.1486e-009,\n",
    "    15.854,\n",
    "    5.3131e-017,\n",
    "    6.504e-017,\n",
    "    3.7963e-017\n",
    "]\n",
    "    \n",
    "p0 = [\n",
    "    0.00015,\n",
    "    0.023,\n",
    "#    0.01, not estimated in fitting\n",
    "    0.01,\n",
    "    0.01,\n",
    "    0.1,\n",
    "    0.000404,\n",
    "    0.0026,\n",
    "    0.0056,\n",
    "    0.002,\n",
    "    0.016,\n",
    "    5.7,\n",
    "    0.00657,\n",
    "    0.0017,\n",
    "    1.,\n",
    "    0.0008,\n",
    "    0.001,\n",
    "    0.0021,\n",
    "    0.001\n",
    "#    9000., not estimated in fitting\n",
    "#    1800.  not estimated in fitting\n",
    "]\n",
    "\n",
    "time_points = [\n",
    "    0.,\n",
    "    1285.71,\n",
    "    2571.43,\n",
    "    3857.14,\n",
    "    5142.86,\n",
    "    6428.57,\n",
    "    7714.29,\n",
    "    9000.,\n",
    "    10285.7,\n",
    "    11571.4,\n",
    "    12857.1,\n",
    "    14142.9,\n",
    "    15428.6,\n",
    "    16714.3,\n",
    "    18000.\n",
    "]\n",
    "\n",
    "# time interval to solve on\n",
    "tspan = (0., 18000.);"
   ]
  },
  {
   "cell_type": "markdown",
   "metadata": {},
   "source": [
    "Next we solve the IVP (Initial Value Problem)"
   ]
  },
  {
   "cell_type": "code",
   "execution_count": 4,
   "metadata": {},
   "outputs": [],
   "source": [
    "# next we create an IVP \n",
    "prob = ODEProblem(ode_func, u0, tspan, p0)\n",
    "\n",
    "# solver algorithm, tolerances and max iterations\n",
    "solver_opts = Dict(\n",
    "    :alg => AutoTsit5(Rosenbrock23()),\n",
    "    :reltol => 1e-7,\n",
    "    :abstol => 1e-7\n",
    ")\n",
    "\n",
    "# we are interested only in concentrations observed in the experiment, hence \"save_idxs = 1:16\"\n",
    "sol = solve(\n",
    "    prob, \n",
    "    solver_opts[:alg], \n",
    "    reltol=solver_opts[:reltol],\n",
    "    abstol=solver_opts[:abstol],\n",
    "    saveat=time_points,\n",
    "    save_idxs = 1:16\n",
    ");"
   ]
  },
  {
   "cell_type": "markdown",
   "metadata": {},
   "source": [
    "We use pseudo-experimental dataset from [visid repo](https://github.com/gabora/visid/blob/53c5f390f6b0459978c076ace01a4b5f7c165094/case_studies/tgfb/TGFB_amigo.m) and plot one of the variables (TGFb) together with experimental data"
   ]
  },
  {
   "cell_type": "code",
   "execution_count": 5,
   "metadata": {},
   "outputs": [],
   "source": [
    "dataset = CSV.read(\"TGFb_data.csv\")\n",
    "\n",
    "# standard deviation (sigma and not sigma^2!)\n",
    "# provided in inputs.exps.error_data{iexp}\n",
    "sigmas = CSV.read(\"TGFb_error.csv\");"
   ]
  },
  {
   "cell_type": "code",
   "execution_count": 6,
   "metadata": {},
   "outputs": [
    {
     "data": {
      "image/svg+xml": [
       "<?xml version=\"1.0\" encoding=\"utf-8\"?>\n",
       "<svg xmlns=\"http://www.w3.org/2000/svg\" xmlns:xlink=\"http://www.w3.org/1999/xlink\" width=\"600\" height=\"400\" viewBox=\"0 0 2400 1600\">\n",
       "<defs>\n",
       "  <clipPath id=\"clip7400\">\n",
       "    <rect x=\"0\" y=\"0\" width=\"2400\" height=\"1600\"/>\n",
       "  </clipPath>\n",
       "</defs>\n",
       "<polygon clip-path=\"url(#clip7400)\" points=\"\n",
       "0,1600 2400,1600 2400,0 0,0 \n",
       "  \" fill=\"#ffffff\" fill-rule=\"evenodd\" fill-opacity=\"1\"/>\n",
       "<defs>\n",
       "  <clipPath id=\"clip7401\">\n",
       "    <rect x=\"480\" y=\"0\" width=\"1681\" height=\"1600\"/>\n",
       "  </clipPath>\n",
       "</defs>\n",
       "<polygon clip-path=\"url(#clip7400)\" points=\"\n",
       "215.754,1425.62 2352.76,1425.62 2352.76,47.2441 215.754,47.2441 \n",
       "  \" fill=\"#ffffff\" fill-rule=\"evenodd\" fill-opacity=\"1\"/>\n",
       "<defs>\n",
       "  <clipPath id=\"clip7402\">\n",
       "    <rect x=\"215\" y=\"47\" width=\"2138\" height=\"1379\"/>\n",
       "  </clipPath>\n",
       "</defs>\n",
       "<polyline clip-path=\"url(#clip7402)\" style=\"stroke:#000000; stroke-width:2; stroke-opacity:0.1; fill:none\" points=\"\n",
       "  215.754,1425.62 215.754,47.2441 \n",
       "  \"/>\n",
       "<polyline clip-path=\"url(#clip7402)\" style=\"stroke:#000000; stroke-width:2; stroke-opacity:0.1; fill:none\" points=\"\n",
       "  571.921,1425.62 571.921,47.2441 \n",
       "  \"/>\n",
       "<polyline clip-path=\"url(#clip7402)\" style=\"stroke:#000000; stroke-width:2; stroke-opacity:0.1; fill:none\" points=\"\n",
       "  928.088,1425.62 928.088,47.2441 \n",
       "  \"/>\n",
       "<polyline clip-path=\"url(#clip7402)\" style=\"stroke:#000000; stroke-width:2; stroke-opacity:0.1; fill:none\" points=\"\n",
       "  1284.25,1425.62 1284.25,47.2441 \n",
       "  \"/>\n",
       "<polyline clip-path=\"url(#clip7402)\" style=\"stroke:#000000; stroke-width:2; stroke-opacity:0.1; fill:none\" points=\"\n",
       "  1640.42,1425.62 1640.42,47.2441 \n",
       "  \"/>\n",
       "<polyline clip-path=\"url(#clip7402)\" style=\"stroke:#000000; stroke-width:2; stroke-opacity:0.1; fill:none\" points=\"\n",
       "  1996.59,1425.62 1996.59,47.2441 \n",
       "  \"/>\n",
       "<polyline clip-path=\"url(#clip7402)\" style=\"stroke:#000000; stroke-width:2; stroke-opacity:0.1; fill:none\" points=\"\n",
       "  2352.76,1425.62 2352.76,47.2441 \n",
       "  \"/>\n",
       "<polyline clip-path=\"url(#clip7402)\" style=\"stroke:#000000; stroke-width:2; stroke-opacity:0.1; fill:none\" points=\"\n",
       "  215.754,1161.4 2352.76,1161.4 \n",
       "  \"/>\n",
       "<polyline clip-path=\"url(#clip7402)\" style=\"stroke:#000000; stroke-width:2; stroke-opacity:0.1; fill:none\" points=\"\n",
       "  215.754,892.612 2352.76,892.612 \n",
       "  \"/>\n",
       "<polyline clip-path=\"url(#clip7402)\" style=\"stroke:#000000; stroke-width:2; stroke-opacity:0.1; fill:none\" points=\"\n",
       "  215.754,623.826 2352.76,623.826 \n",
       "  \"/>\n",
       "<polyline clip-path=\"url(#clip7402)\" style=\"stroke:#000000; stroke-width:2; stroke-opacity:0.1; fill:none\" points=\"\n",
       "  215.754,355.04 2352.76,355.04 \n",
       "  \"/>\n",
       "<polyline clip-path=\"url(#clip7402)\" style=\"stroke:#000000; stroke-width:2; stroke-opacity:0.1; fill:none\" points=\"\n",
       "  215.754,86.2547 2352.76,86.2547 \n",
       "  \"/>\n",
       "<polyline clip-path=\"url(#clip7400)\" style=\"stroke:#000000; stroke-width:4; stroke-opacity:1; fill:none\" points=\"\n",
       "  215.754,1425.62 2352.76,1425.62 \n",
       "  \"/>\n",
       "<polyline clip-path=\"url(#clip7400)\" style=\"stroke:#000000; stroke-width:4; stroke-opacity:1; fill:none\" points=\"\n",
       "  215.754,1425.62 215.754,47.2441 \n",
       "  \"/>\n",
       "<polyline clip-path=\"url(#clip7400)\" style=\"stroke:#000000; stroke-width:4; stroke-opacity:1; fill:none\" points=\"\n",
       "  215.754,1425.62 215.754,1404.94 \n",
       "  \"/>\n",
       "<polyline clip-path=\"url(#clip7400)\" style=\"stroke:#000000; stroke-width:4; stroke-opacity:1; fill:none\" points=\"\n",
       "  571.921,1425.62 571.921,1404.94 \n",
       "  \"/>\n",
       "<polyline clip-path=\"url(#clip7400)\" style=\"stroke:#000000; stroke-width:4; stroke-opacity:1; fill:none\" points=\"\n",
       "  928.088,1425.62 928.088,1404.94 \n",
       "  \"/>\n",
       "<polyline clip-path=\"url(#clip7400)\" style=\"stroke:#000000; stroke-width:4; stroke-opacity:1; fill:none\" points=\"\n",
       "  1284.25,1425.62 1284.25,1404.94 \n",
       "  \"/>\n",
       "<polyline clip-path=\"url(#clip7400)\" style=\"stroke:#000000; stroke-width:4; stroke-opacity:1; fill:none\" points=\"\n",
       "  1640.42,1425.62 1640.42,1404.94 \n",
       "  \"/>\n",
       "<polyline clip-path=\"url(#clip7400)\" style=\"stroke:#000000; stroke-width:4; stroke-opacity:1; fill:none\" points=\"\n",
       "  1996.59,1425.62 1996.59,1404.94 \n",
       "  \"/>\n",
       "<polyline clip-path=\"url(#clip7400)\" style=\"stroke:#000000; stroke-width:4; stroke-opacity:1; fill:none\" points=\"\n",
       "  2352.76,1425.62 2352.76,1404.94 \n",
       "  \"/>\n",
       "<polyline clip-path=\"url(#clip7400)\" style=\"stroke:#000000; stroke-width:4; stroke-opacity:1; fill:none\" points=\"\n",
       "  215.754,1161.4 247.809,1161.4 \n",
       "  \"/>\n",
       "<polyline clip-path=\"url(#clip7400)\" style=\"stroke:#000000; stroke-width:4; stroke-opacity:1; fill:none\" points=\"\n",
       "  215.754,892.612 247.809,892.612 \n",
       "  \"/>\n",
       "<polyline clip-path=\"url(#clip7400)\" style=\"stroke:#000000; stroke-width:4; stroke-opacity:1; fill:none\" points=\"\n",
       "  215.754,623.826 247.809,623.826 \n",
       "  \"/>\n",
       "<polyline clip-path=\"url(#clip7400)\" style=\"stroke:#000000; stroke-width:4; stroke-opacity:1; fill:none\" points=\"\n",
       "  215.754,355.04 247.809,355.04 \n",
       "  \"/>\n",
       "<polyline clip-path=\"url(#clip7400)\" style=\"stroke:#000000; stroke-width:4; stroke-opacity:1; fill:none\" points=\"\n",
       "  215.754,86.2547 247.809,86.2547 \n",
       "  \"/>\n",
       "<g clip-path=\"url(#clip7400)\">\n",
       "<text style=\"fill:#000000; fill-opacity:1; font-family:Arial,Helvetica Neue,Helvetica,sans-serif; font-size:48px; text-anchor:middle;\" transform=\"rotate(0, 215.754, 1479.62)\" x=\"215.754\" y=\"1479.62\">0</text>\n",
       "</g>\n",
       "<g clip-path=\"url(#clip7400)\">\n",
       "<text style=\"fill:#000000; fill-opacity:1; font-family:Arial,Helvetica Neue,Helvetica,sans-serif; font-size:48px; text-anchor:start;\" transform=\"rotate(0, 486.779, 1500.63)\" x=\"486.779\" y=\"1500.63\">3.0×10</text>\n",
       "</g>\n",
       "<g clip-path=\"url(#clip7400)\">\n",
       "<text style=\"fill:#000000; fill-opacity:1; font-family:Arial,Helvetica Neue,Helvetica,sans-serif; font-size:38px; text-anchor:start;\" transform=\"rotate(0, 635.319, 1473.22)\" x=\"635.319\" y=\"1473.22\">3</text>\n",
       "</g>\n",
       "<g clip-path=\"url(#clip7400)\">\n",
       "<text style=\"fill:#000000; fill-opacity:1; font-family:Arial,Helvetica Neue,Helvetica,sans-serif; font-size:48px; text-anchor:start;\" transform=\"rotate(0, 842.946, 1500.63)\" x=\"842.946\" y=\"1500.63\">6.0×10</text>\n",
       "</g>\n",
       "<g clip-path=\"url(#clip7400)\">\n",
       "<text style=\"fill:#000000; fill-opacity:1; font-family:Arial,Helvetica Neue,Helvetica,sans-serif; font-size:38px; text-anchor:start;\" transform=\"rotate(0, 991.486, 1473.22)\" x=\"991.486\" y=\"1473.22\">3</text>\n",
       "</g>\n",
       "<g clip-path=\"url(#clip7400)\">\n",
       "<text style=\"fill:#000000; fill-opacity:1; font-family:Arial,Helvetica Neue,Helvetica,sans-serif; font-size:48px; text-anchor:start;\" transform=\"rotate(0, 1199.11, 1500.63)\" x=\"1199.11\" y=\"1500.63\">9.0×10</text>\n",
       "</g>\n",
       "<g clip-path=\"url(#clip7400)\">\n",
       "<text style=\"fill:#000000; fill-opacity:1; font-family:Arial,Helvetica Neue,Helvetica,sans-serif; font-size:38px; text-anchor:start;\" transform=\"rotate(0, 1347.65, 1473.22)\" x=\"1347.65\" y=\"1473.22\">3</text>\n",
       "</g>\n",
       "<g clip-path=\"url(#clip7400)\">\n",
       "<text style=\"fill:#000000; fill-opacity:1; font-family:Arial,Helvetica Neue,Helvetica,sans-serif; font-size:48px; text-anchor:start;\" transform=\"rotate(0, 1555.28, 1500.63)\" x=\"1555.28\" y=\"1500.63\">1.2×10</text>\n",
       "</g>\n",
       "<g clip-path=\"url(#clip7400)\">\n",
       "<text style=\"fill:#000000; fill-opacity:1; font-family:Arial,Helvetica Neue,Helvetica,sans-serif; font-size:38px; text-anchor:start;\" transform=\"rotate(0, 1703.82, 1473.22)\" x=\"1703.82\" y=\"1473.22\">4</text>\n",
       "</g>\n",
       "<g clip-path=\"url(#clip7400)\">\n",
       "<text style=\"fill:#000000; fill-opacity:1; font-family:Arial,Helvetica Neue,Helvetica,sans-serif; font-size:48px; text-anchor:start;\" transform=\"rotate(0, 1911.45, 1500.63)\" x=\"1911.45\" y=\"1500.63\">1.5×10</text>\n",
       "</g>\n",
       "<g clip-path=\"url(#clip7400)\">\n",
       "<text style=\"fill:#000000; fill-opacity:1; font-family:Arial,Helvetica Neue,Helvetica,sans-serif; font-size:38px; text-anchor:start;\" transform=\"rotate(0, 2059.99, 1473.22)\" x=\"2059.99\" y=\"1473.22\">4</text>\n",
       "</g>\n",
       "<g clip-path=\"url(#clip7400)\">\n",
       "<text style=\"fill:#000000; fill-opacity:1; font-family:Arial,Helvetica Neue,Helvetica,sans-serif; font-size:48px; text-anchor:start;\" transform=\"rotate(0, 2267.61, 1500.63)\" x=\"2267.61\" y=\"1500.63\">1.8×10</text>\n",
       "</g>\n",
       "<g clip-path=\"url(#clip7400)\">\n",
       "<text style=\"fill:#000000; fill-opacity:1; font-family:Arial,Helvetica Neue,Helvetica,sans-serif; font-size:38px; text-anchor:start;\" transform=\"rotate(0, 2416.15, 1473.22)\" x=\"2416.15\" y=\"1473.22\">4</text>\n",
       "</g>\n",
       "<g clip-path=\"url(#clip7400)\">\n",
       "<text style=\"fill:#000000; fill-opacity:1; font-family:Arial,Helvetica Neue,Helvetica,sans-serif; font-size:48px; text-anchor:end;\" transform=\"rotate(0, 191.754, 1178.9)\" x=\"191.754\" y=\"1178.9\">0.2</text>\n",
       "</g>\n",
       "<g clip-path=\"url(#clip7400)\">\n",
       "<text style=\"fill:#000000; fill-opacity:1; font-family:Arial,Helvetica Neue,Helvetica,sans-serif; font-size:48px; text-anchor:end;\" transform=\"rotate(0, 191.754, 910.112)\" x=\"191.754\" y=\"910.112\">0.4</text>\n",
       "</g>\n",
       "<g clip-path=\"url(#clip7400)\">\n",
       "<text style=\"fill:#000000; fill-opacity:1; font-family:Arial,Helvetica Neue,Helvetica,sans-serif; font-size:48px; text-anchor:end;\" transform=\"rotate(0, 191.754, 641.326)\" x=\"191.754\" y=\"641.326\">0.6</text>\n",
       "</g>\n",
       "<g clip-path=\"url(#clip7400)\">\n",
       "<text style=\"fill:#000000; fill-opacity:1; font-family:Arial,Helvetica Neue,Helvetica,sans-serif; font-size:48px; text-anchor:end;\" transform=\"rotate(0, 191.754, 372.54)\" x=\"191.754\" y=\"372.54\">0.8</text>\n",
       "</g>\n",
       "<g clip-path=\"url(#clip7400)\">\n",
       "<text style=\"fill:#000000; fill-opacity:1; font-family:Arial,Helvetica Neue,Helvetica,sans-serif; font-size:48px; text-anchor:end;\" transform=\"rotate(0, 191.754, 103.755)\" x=\"191.754\" y=\"103.755\">1.0</text>\n",
       "</g>\n",
       "<g clip-path=\"url(#clip7400)\">\n",
       "<text style=\"fill:#000000; fill-opacity:1; font-family:Arial,Helvetica Neue,Helvetica,sans-serif; font-size:66px; text-anchor:middle;\" transform=\"rotate(0, 1284.25, 1559.48)\" x=\"1284.25\" y=\"1559.48\">t</text>\n",
       "</g>\n",
       "<g clip-path=\"url(#clip7400)\">\n",
       "<text style=\"fill:#000000; fill-opacity:1; font-family:Arial,Helvetica Neue,Helvetica,sans-serif; font-size:66px; text-anchor:middle;\" transform=\"rotate(-90, 89.2861, 736.431)\" x=\"89.2861\" y=\"736.431\">TGFb</text>\n",
       "</g>\n",
       "<polyline clip-path=\"url(#clip7402)\" style=\"stroke:#009af9; stroke-width:12; stroke-opacity:1; fill:none\" points=\"\n",
       "  215.754,86.2547 368.397,1349.98 521.04,1348.3 673.683,1343.12 826.326,1340.95 978.969,1340.31 1131.61,1330.75 1284.25,1325.99 1436.9,1326.12 1589.54,1344.4 \n",
       "  1742.18,1346.66 1894.83,1343.86 2047.47,1341.62 2200.11,1340.66 2352.76,1340.42 \n",
       "  \"/>\n",
       "<circle clip-path=\"url(#clip7402)\" style=\"fill:#000000; stroke:none; fill-opacity:1\" cx=\"215.754\" cy=\"250.793\" r=\"18\"/>\n",
       "<circle clip-path=\"url(#clip7402)\" style=\"fill:#e26f46; stroke:none; fill-opacity:1\" cx=\"215.754\" cy=\"250.793\" r=\"14\"/>\n",
       "<circle clip-path=\"url(#clip7402)\" style=\"fill:#000000; stroke:none; fill-opacity:1\" cx=\"368.397\" cy=\"1354.91\" r=\"18\"/>\n",
       "<circle clip-path=\"url(#clip7402)\" style=\"fill:#e26f46; stroke:none; fill-opacity:1\" cx=\"368.397\" cy=\"1354.91\" r=\"14\"/>\n",
       "<circle clip-path=\"url(#clip7402)\" style=\"fill:#000000; stroke:none; fill-opacity:1\" cx=\"521.04\" cy=\"1386.61\" r=\"18\"/>\n",
       "<circle clip-path=\"url(#clip7402)\" style=\"fill:#e26f46; stroke:none; fill-opacity:1\" cx=\"521.04\" cy=\"1386.61\" r=\"14\"/>\n",
       "<circle clip-path=\"url(#clip7402)\" style=\"fill:#000000; stroke:none; fill-opacity:1\" cx=\"673.683\" cy=\"1339.95\" r=\"18\"/>\n",
       "<circle clip-path=\"url(#clip7402)\" style=\"fill:#e26f46; stroke:none; fill-opacity:1\" cx=\"673.683\" cy=\"1339.95\" r=\"14\"/>\n",
       "<circle clip-path=\"url(#clip7402)\" style=\"fill:#000000; stroke:none; fill-opacity:1\" cx=\"826.326\" cy=\"1320.94\" r=\"18\"/>\n",
       "<circle clip-path=\"url(#clip7402)\" style=\"fill:#e26f46; stroke:none; fill-opacity:1\" cx=\"826.326\" cy=\"1320.94\" r=\"14\"/>\n",
       "<circle clip-path=\"url(#clip7402)\" style=\"fill:#000000; stroke:none; fill-opacity:1\" cx=\"978.969\" cy=\"1329.92\" r=\"18\"/>\n",
       "<circle clip-path=\"url(#clip7402)\" style=\"fill:#e26f46; stroke:none; fill-opacity:1\" cx=\"978.969\" cy=\"1329.92\" r=\"14\"/>\n",
       "<circle clip-path=\"url(#clip7402)\" style=\"fill:#000000; stroke:none; fill-opacity:1\" cx=\"1131.61\" cy=\"1303.32\" r=\"18\"/>\n",
       "<circle clip-path=\"url(#clip7402)\" style=\"fill:#e26f46; stroke:none; fill-opacity:1\" cx=\"1131.61\" cy=\"1303.32\" r=\"14\"/>\n",
       "<circle clip-path=\"url(#clip7402)\" style=\"fill:#000000; stroke:none; fill-opacity:1\" cx=\"1284.25\" cy=\"1349.16\" r=\"18\"/>\n",
       "<circle clip-path=\"url(#clip7402)\" style=\"fill:#e26f46; stroke:none; fill-opacity:1\" cx=\"1284.25\" cy=\"1349.16\" r=\"14\"/>\n",
       "<circle clip-path=\"url(#clip7402)\" style=\"fill:#000000; stroke:none; fill-opacity:1\" cx=\"1436.9\" cy=\"1346.89\" r=\"18\"/>\n",
       "<circle clip-path=\"url(#clip7402)\" style=\"fill:#e26f46; stroke:none; fill-opacity:1\" cx=\"1436.9\" cy=\"1346.89\" r=\"14\"/>\n",
       "<circle clip-path=\"url(#clip7402)\" style=\"fill:#000000; stroke:none; fill-opacity:1\" cx=\"1589.54\" cy=\"1337.94\" r=\"18\"/>\n",
       "<circle clip-path=\"url(#clip7402)\" style=\"fill:#e26f46; stroke:none; fill-opacity:1\" cx=\"1589.54\" cy=\"1337.94\" r=\"14\"/>\n",
       "<circle clip-path=\"url(#clip7402)\" style=\"fill:#000000; stroke:none; fill-opacity:1\" cx=\"1742.18\" cy=\"1352.1\" r=\"18\"/>\n",
       "<circle clip-path=\"url(#clip7402)\" style=\"fill:#e26f46; stroke:none; fill-opacity:1\" cx=\"1742.18\" cy=\"1352.1\" r=\"14\"/>\n",
       "<circle clip-path=\"url(#clip7402)\" style=\"fill:#000000; stroke:none; fill-opacity:1\" cx=\"1894.83\" cy=\"1343.55\" r=\"18\"/>\n",
       "<circle clip-path=\"url(#clip7402)\" style=\"fill:#e26f46; stroke:none; fill-opacity:1\" cx=\"1894.83\" cy=\"1343.55\" r=\"14\"/>\n",
       "<circle clip-path=\"url(#clip7402)\" style=\"fill:#000000; stroke:none; fill-opacity:1\" cx=\"2047.47\" cy=\"1367.6\" r=\"18\"/>\n",
       "<circle clip-path=\"url(#clip7402)\" style=\"fill:#e26f46; stroke:none; fill-opacity:1\" cx=\"2047.47\" cy=\"1367.6\" r=\"14\"/>\n",
       "<circle clip-path=\"url(#clip7402)\" style=\"fill:#000000; stroke:none; fill-opacity:1\" cx=\"2200.11\" cy=\"1345.44\" r=\"18\"/>\n",
       "<circle clip-path=\"url(#clip7402)\" style=\"fill:#e26f46; stroke:none; fill-opacity:1\" cx=\"2200.11\" cy=\"1345.44\" r=\"14\"/>\n",
       "<polygon clip-path=\"url(#clip7400)\" points=\"\n",
       "1472.2,312.204 2280.76,312.204 2280.76,130.764 1472.2,130.764 \n",
       "  \" fill=\"#ffffff\" fill-rule=\"evenodd\" fill-opacity=\"1\"/>\n",
       "<polyline clip-path=\"url(#clip7400)\" style=\"stroke:#000000; stroke-width:4; stroke-opacity:1; fill:none\" points=\"\n",
       "  1472.2,312.204 2280.76,312.204 2280.76,130.764 1472.2,130.764 1472.2,312.204 \n",
       "  \"/>\n",
       "<polyline clip-path=\"url(#clip7400)\" style=\"stroke:#009af9; stroke-width:12; stroke-opacity:1; fill:none\" points=\"\n",
       "  1496.2,191.244 1640.2,191.244 \n",
       "  \"/>\n",
       "<g clip-path=\"url(#clip7400)\">\n",
       "<text style=\"fill:#000000; fill-opacity:1; font-family:Arial,Helvetica Neue,Helvetica,sans-serif; font-size:48px; text-anchor:start;\" transform=\"rotate(0, 1664.2, 208.744)\" x=\"1664.2\" y=\"208.744\">TGFb(t)</text>\n",
       "</g>\n",
       "<circle clip-path=\"url(#clip7400)\" style=\"fill:#000000; stroke:none; fill-opacity:1\" cx=\"1580.2\" cy=\"251.724\" r=\"25\"/>\n",
       "<circle clip-path=\"url(#clip7400)\" style=\"fill:#e26f46; stroke:none; fill-opacity:1\" cx=\"1580.2\" cy=\"251.724\" r=\"21\"/>\n",
       "<g clip-path=\"url(#clip7400)\">\n",
       "<text style=\"fill:#000000; fill-opacity:1; font-family:Arial,Helvetica Neue,Helvetica,sans-serif; font-size:48px; text-anchor:start;\" transform=\"rotate(0, 1664.2, 269.224)\" x=\"1664.2\" y=\"269.224\">pseudo-experimental data</text>\n",
       "</g>\n",
       "</svg>\n"
      ]
     },
     "execution_count": 6,
     "metadata": {},
     "output_type": "execute_result"
    }
   ],
   "source": [
    "plot(sol, vars=(0,1), xlabel = \"t\", ylabel = \"TGFb\", label=\"TGFb(t)\");\n",
    "scatter!(dataset[!,:time],dataset[!,:TGFb], label = \"pseudo-experimental data\")"
   ]
  },
  {
   "cell_type": "markdown",
   "metadata": {},
   "source": [
    "To fit parameters to pseudo-experimental data we use the following likelihood function provided by the authors of \\[\\*\\] in [AMIGO2 package](https://github.com/csynbiosys/AMIGO2R2016b). According to AMIGO2 docs:\n",
    "\n",
    "*For the homoscedastic case, for which the variance is known or constant, the cost function results\n",
    "to be similar to the generalized least squares, with weights taken as the inverse of the variance of\n",
    "the experimental data*\n",
    "\n",
    "$$ \\Lambda = \\sum_{i=1}^n \\left(\\frac{y(t_i) - \\tilde y_i}{\\sigma_i}\\right)^2 $$\n",
    "\n",
    "Here \n",
    "$n$ - number of observations (experimental data time points),\n",
    "$\\tilde y_i$ - experimental data,\n",
    "$y(t_i)$ - numerical solution,\n",
    "$\\sigma_i $ - standard deviation of heteroscedastic noise"
   ]
  },
  {
   "cell_type": "code",
   "execution_count": 6,
   "metadata": {},
   "outputs": [],
   "source": [
    "# loss function \n",
    "# for 'hetero' case \n",
    "# https://github.com/csynbiosys/AMIGO2R2016b/blob/63b131e0274096f9aef6ca42d0332ff113d1828a/Kernel/AMIGO_PEcost.m#L322\n",
    "\n",
    "function loss_func(sol, data, sigma) # sum by components\n",
    "    loss = 0.0\n",
    "    for i in eachindex(sol.u[1]) #1:16\n",
    "        loss += loss_i(sol[i,:], data[!,i+1], sigma[!,i+1])\n",
    "    end\n",
    "    return loss\n",
    "end\n",
    "\n",
    "function loss_i(sol, data, sigma) # sum by data points\n",
    "    loss = 0.0  \n",
    "    for i in eachindex(sol)\n",
    "        loss += ((sol[i] - data[i])/sigma[i])^2\n",
    "    end\n",
    "    return loss \n",
    "end;"
   ]
  },
  {
   "cell_type": "markdown",
   "metadata": {},
   "source": [
    "Objective function is a wrapper for parameters updates during fitting `obj_func = (params)->loss`"
   ]
  },
  {
   "cell_type": "code",
   "execution_count": 7,
   "metadata": {},
   "outputs": [],
   "source": [
    "# obj function (params,prob)->loss\n",
    "function obj_func(params;\n",
    "                  prob=prob, \n",
    "                  solver_opts=solver_opts, \n",
    "                  time_points=time_points,\n",
    "                  loss=(sol)->loss_func(sol,dataset,sigmas)\n",
    ")\n",
    "    prob_p = remake(prob,p=params)\n",
    "    sol_p = solve(prob_p, \n",
    "                  solver_opts[:alg], \n",
    "                  reltol=solver_opts[:reltol], \n",
    "                  abstol=solver_opts[:abstol], \n",
    "                  saveat=time_points,\n",
    "                  save_idxs = 1:16)\n",
    "    loss(sol_p)\n",
    "end;"
   ]
  },
  {
   "cell_type": "markdown",
   "metadata": {},
   "source": [
    "Now we fit parameters to the dataset with *NLopt* package. See [NLopt documentation](https://nlopt.readthedocs.io/en/latest) for details"
   ]
  },
  {
   "cell_type": "code",
   "execution_count": 8,
   "metadata": {},
   "outputs": [
    {
     "data": {
      "text/plain": [
       "(7597.967304897038, [8.214372398674075e-5, 0.038808202411743396, 0.03662576098761518, 0.00010012014996470485, 2.7719175355951243e-5, 2.474460692476516e-6, 2.694037359564942e-5, 6.0835783479742275e-5, 3.49689020694743e-5, 0.0008975699271944685, 13.125339963271827, 1.0195830763745685e-5, 0.3293022587117055, 0.2805325079979767, 0.0005521115844559219, 0.0013129571635396384, 0.0030843102504628356, 0.03274237009232267], :XTOL_REACHED)"
      ]
     },
     "execution_count": 8,
     "metadata": {},
     "output_type": "execute_result"
    }
   ],
   "source": [
    "# fitting algorithm and search bounds\n",
    "\n",
    "fitter_opts = Dict(\n",
    "    :alg => :LN_NELDERMEAD\n",
    ")\n",
    "\n",
    "# lower, upper bounds and start values formula:\n",
    "# https://github.com/gabora/visid/blob/master/case_studies/tgfb/TGFB_amigo.m\n",
    "lb = [1e-6, 0.0001, 1e-6, 0.0001, 1e-6, 1e-6, 1e-5, 1e-5, 1e-6, 1e-5, 0.1, 1e-5, 1e-5, 0.001, 1e-5, 1e-5, 1e-5, 1e-5]\n",
    "ub = [0.1, 1.0, 1.0, 1.0, 1.0, 1.0, 1.0, 1.0, 1.0, 1.0, 100., 1.0, 1.0, 100., 0.1, 0.1, 0.1, 0.1]\n",
    "\n",
    "# start values generated with exp.(log.(lb) + rand(length(p0)).*(log.(ub) - log.(lb)))\n",
    "p_start = [3.52E-05,\n",
    "           0.00131226,\n",
    "           0.00151732,\n",
    "           0.0395871,\n",
    "           1.63E-05,\n",
    "           0.000251247,\n",
    "           0.000112007,\n",
    "           0.00783227,\n",
    "           0.0424562,\n",
    "           0.000142716,\n",
    "           8.20992,\n",
    "           0.000270499,\n",
    "           0.0213893,\n",
    "           1.41254,\n",
    "           0.000121978,\n",
    "           0.00658392,\n",
    "           0.000205464,\n",
    "           0.0111338]\n",
    "\n",
    "opt = Opt(fitter_opts[:alg], length(p0))\n",
    "opt.min_objective = (p,grad) -> obj_func(p)\n",
    "opt.lower_bounds = lb\n",
    "opt.upper_bounds = ub\n",
    "opt.xtol_rel = 1e-3\n",
    "\n",
    "(loss,p,ret) = NLopt.optimize(opt, p_start)"
   ]
  },
  {
   "cell_type": "markdown",
   "metadata": {},
   "source": [
    "Let's use *LikelihoodProfiler* package to determine identifiable parameters and compute confidence intrvals.\n",
    "We choose identification confidence level $ \\alpha = loss + 3.84$, where $loss $ is the minimum likelihood function value obtained during fitting and 3.84 is *Chi-square statistics* with 1 degree of freedom and P-value=0.05.\n",
    "Please, look up [LikelihoodProfiler documentation](https://insysbio.github.io/LikelihoodProfiler.jl/latest/) for details"
   ]
  },
  {
   "cell_type": "code",
   "execution_count": 9,
   "metadata": {},
   "outputs": [
    {
     "name": "stdout",
     "output_type": "stream",
     "text": [
      "[1"
     ]
    },
    {
     "name": "stderr",
     "output_type": "stream",
     "text": [
      "┌ Warning: Close-to-zero parameters found when using :LN_NELDERMEAD.\n",
      "└ @ LikelihoodProfiler D:\\INSYSBIO\\repos\\LikelihoodProfiler\\src\\cico_one_pass.jl:35\n"
     ]
    },
    {
     "name": "stdout",
     "output_type": "stream",
     "text": [
      ", 4, 5, 6, 7, 8, 9, 10, 12, 15, 16, 17][1, 4, 5, 6, 7, 8, 9, 10, 12, 15, 16, 17]"
     ]
    },
    {
     "name": "stderr",
     "output_type": "stream",
     "text": [
      "┌ Warning: Close-to-zero parameters found when using :LN_NELDERMEAD.\n",
      "└ @ LikelihoodProfiler D:\\INSYSBIO\\repos\\LikelihoodProfiler\\src\\cico_one_pass.jl:35\n"
     ]
    },
    {
     "name": "stdout",
     "output_type": "stream",
     "text": [
      "ParamInterval(ParamIntervalInput([8.214372398674075e-5, 0.038808202411743396, 0.03662576098761518, 0.00010012014996470485, 2.7719175355951243e-5, 2.474460692476516e-6, 2.694037359564942e-5, 6.0835783479742275e-5, 3.49689020694743e-5, 0.0008975699271944685, 13.125339963271827, 1.0195830763745685e-5, 0.3293022587117055, 0.2805325079979767, 0.0005521115844559219, 0.0013129571635396384, 0.0030843102504628356, 0.03274237009232267], 1, getfield(Main, Symbol(\"##10#11\"))(), 7601.807304897038, Symbol[:direct, :direct, :direct, :direct, :direct, :direct, :direct, :direct, :direct, :direct, :direct, :direct, :direct, :direct, :direct, :direct, :direct, :direct], Tuple{Float64,Float64}[(1.0e-7, 1.0), (1.0e-5, 10.0), (1.0e-7, 10.0), (1.0e-5, 10.0), (1.0e-7, 10.0), (1.0e-7, 10.0), (1.0000000000000002e-6, 10.0), (1.0000000000000002e-6, 10.0), (1.0e-7, 10.0), (1.0000000000000002e-6, 10.0), (0.01, 1000.0), (1.0000000000000002e-6, 10.0), (1.0000000000000002e-6, 10.0), (0.0001, 1000.0), (1.0000000000000002e-6, 1.0), (1.0000000000000002e-6, 1.0), (1.0000000000000002e-6, 1.0), (1.0000000000000002e-6, 1.0)], (1.0e-6, 0.1), 0.0001, 0.001, :LN_NELDERMEAD, Base.Iterators.Pairs{Union{},Union{},Tuple{},NamedTuple{(),Tuple{}}}()), 7597.967304897038, :CICO_ONE_PASS, (EndPoint(8.214372398674075e-5, ProfilePoint[ProfilePoint(8.214372398674075e-5, 7597.967304897038, [8.214372398674075e-5, 0.038808202411743396, 0.03662576098761518, 0.00010012014996470485, 2.7719175355951243e-5, 2.474460692476516e-6, 2.694037359564942e-5, 6.0835783479742275e-5, 3.49689020694743e-5, 0.0008975699271944685, 13.125339963271827, 1.0195830763745685e-5, 0.3293022587117055, 0.2805325079979767, 0.0005521115844559219, 0.0013129571635396384, 0.0030843102504628356, 0.03274237009232267], :FTOL_REACHED, nothing)], :BORDER_FOUND_BY_SCAN_TOL, :left, 92, 8.214372398674075e-5), EndPoint(0.0001642874479734815, ProfilePoint[ProfilePoint(0.0001642874479734815, 7578.825412817581, [0.0001642874479734815, 0.07761640482348679, 0.03662576098761518, 0.00010012014996470485, 5.5438350711902485e-5, 2.474460692476516e-6, 2.694037359564942e-5, 6.0835783479742275e-5, 3.49689020694743e-5, 0.0008975699271944685, 13.125339963271827, 2.039166152749137e-5, 0.3293022587117055, 0.2805325079979767, 0.0011042231689118438, 0.0013129571635396384, 0.0030843102504628356, 0.03274237009232267], :FTOL_REACHED, nothing)], :BORDER_FOUND_BY_SCAN_TOL, :right, 82, 0.0001642874479734815)))\n",
      "[1, 4, 5, 6, 7, 8, 9, 10, 12, 15, 16, 17]"
     ]
    },
    {
     "name": "stderr",
     "output_type": "stream",
     "text": [
      "┌ Warning: Close-to-zero parameters found when using :LN_NELDERMEAD.\n",
      "└ @ LikelihoodProfiler D:\\INSYSBIO\\repos\\LikelihoodProfiler\\src\\cico_one_pass.jl:35\n"
     ]
    },
    {
     "name": "stdout",
     "output_type": "stream",
     "text": [
      "[1, 4, 5, 6, 7, 8, 9, 10, 12, 15, 16, 17]"
     ]
    },
    {
     "name": "stderr",
     "output_type": "stream",
     "text": [
      "┌ Warning: Close-to-zero parameters found when using :LN_NELDERMEAD.\n",
      "└ @ LikelihoodProfiler D:\\INSYSBIO\\repos\\LikelihoodProfiler\\src\\cico_one_pass.jl:35\n"
     ]
    },
    {
     "name": "stdout",
     "output_type": "stream",
     "text": [
      "ParamInterval(ParamIntervalInput([8.214372398674075e-5, 0.038808202411743396, 0.03662576098761518, 0.00010012014996470485, 2.7719175355951243e-5, 2.474460692476516e-6, 2.694037359564942e-5, 6.0835783479742275e-5, 3.49689020694743e-5, 0.0008975699271944685, 13.125339963271827, 1.0195830763745685e-5, 0.3293022587117055, 0.2805325079979767, 0.0005521115844559219, 0.0013129571635396384, 0.0030843102504628356, 0.03274237009232267], 2, getfield(Main, Symbol(\"##10#11\"))(), 7601.807304897038, Symbol[:direct, :direct, :direct, :direct, :direct, :direct, :direct, :direct, :direct, :direct, :direct, :direct, :direct, :direct, :direct, :direct, :direct, :direct], Tuple{Float64,Float64}[(1.0e-7, 1.0), (1.0e-5, 10.0), (1.0e-7, 10.0), (1.0e-5, 10.0), (1.0e-7, 10.0), (1.0e-7, 10.0), (1.0000000000000002e-6, 10.0), (1.0000000000000002e-6, 10.0), (1.0e-7, 10.0), (1.0000000000000002e-6, 10.0), (0.01, 1000.0), (1.0000000000000002e-6, 10.0), (1.0000000000000002e-6, 10.0), (0.0001, 1000.0), (1.0000000000000002e-6, 1.0), (1.0000000000000002e-6, 1.0), (1.0000000000000002e-6, 1.0), (1.0000000000000002e-6, 1.0)], (0.0001, 1.0), 0.0001, 0.001, :LN_NELDERMEAD, Base.Iterators.Pairs{Union{},Union{},Tuple{},NamedTuple{(),Tuple{}}}()), 7597.967304897038, :CICO_ONE_PASS, (EndPoint(0.003042550452847068, ProfilePoint[ProfilePoint(0.003042550452847068, 7601.036325934192, [1.283942104715818e-5, 0.003042550452847068, 0.03566732264193993, 5.351460300073439e-5, 0.00010618051647986534, 2.8960307363974694e-6, 3.675457577198404e-5, 8.178429322460394e-5, 3.827803486288474e-5, 0.0009312639314045198, 15.452843535700106, 3.168557604433199e-5, 0.45737135157889436, 0.296606108460807, 0.0009694918786651569, 0.0012940090366143967, 0.0041615173421283465, 0.0467379065244156], :FTOL_REACHED, nothing)], :BORDER_FOUND_BY_SCAN_TOL, :left, 617, 0.003042550452847068), EndPoint(nothing, ProfilePoint[], :SCAN_BOUND_REACHED, :right, 360, 1.0020853262337992)))\n",
      "[1, 4,"
     ]
    },
    {
     "name": "stderr",
     "output_type": "stream",
     "text": [
      "┌ Warning: Close-to-zero parameters found when using :LN_NELDERMEAD.\n",
      "└ @ LikelihoodProfiler D:\\INSYSBIO\\repos\\LikelihoodProfiler\\src\\cico_one_pass.jl:35\n"
     ]
    },
    {
     "name": "stdout",
     "output_type": "stream",
     "text": [
      " 5, 6, 7, 8, 9, 10, 12, 15, 16, 17][1, 4, 5, 6, 7, 8, 9, 10, 12, 15, 16, 17]"
     ]
    },
    {
     "name": "stderr",
     "output_type": "stream",
     "text": [
      "┌ Warning: Close-to-zero parameters found when using :LN_NELDERMEAD.\n",
      "└ @ LikelihoodProfiler D:\\INSYSBIO\\repos\\LikelihoodProfiler\\src\\cico_one_pass.jl:35\n"
     ]
    },
    {
     "name": "stdout",
     "output_type": "stream",
     "text": [
      "ParamInterval(ParamIntervalInput([8.214372398674075e-5, 0.038808202411743396, 0.03662576098761518, 0.00010012014996470485, 2.7719175355951243e-5, 2.474460692476516e-6, 2.694037359564942e-5, 6.0835783479742275e-5, 3.49689020694743e-5, 0.0008975699271944685, 13.125339963271827, 1.0195830763745685e-5, 0.3293022587117055, 0.2805325079979767, 0.0005521115844559219, 0.0013129571635396384, 0.0030843102504628356, 0.03274237009232267], 3, getfield(Main, Symbol(\"##10#11\"))(), 7601.807304897038, Symbol[:direct, :direct, :direct, :direct, :direct, :direct, :direct, :direct, :direct, :direct, :direct, :direct, :direct, :direct, :direct, :direct, :direct, :direct], Tuple{Float64,Float64}[(1.0e-7, 1.0), (1.0e-5, 10.0), (1.0e-7, 10.0), (1.0e-5, 10.0), (1.0e-7, 10.0), (1.0e-7, 10.0), (1.0000000000000002e-6, 10.0), (1.0000000000000002e-6, 10.0), (1.0e-7, 10.0), (1.0000000000000002e-6, 10.0), (0.01, 1000.0), (1.0000000000000002e-6, 10.0), (1.0000000000000002e-6, 10.0), (0.0001, 1000.0), (1.0000000000000002e-6, 1.0), (1.0000000000000002e-6, 1.0), (1.0000000000000002e-6, 1.0), (1.0000000000000002e-6, 1.0)], (1.0e-6, 1.0), 0.0001, 0.001, :LN_NELDERMEAD, Base.Iterators.Pairs{Union{},Union{},Tuple{},NamedTuple{(),Tuple{}}}()), 7597.967444067342, :CICO_ONE_PASS, (EndPoint(0.012101167951784605, ProfilePoint[ProfilePoint(0.012101167951784605, 7601.108619911711, [0.0004378463171728104, 0.06104550137973129, 0.012101167951784605, 7.324540006623881e-5, 0.00013305661174214473, 2.6297587731058178e-6, 2.641033193983721e-5, 5.030668287124464e-5, 4.878055400034828e-5, 0.0005812046893132476, 10.216569899414957, 2.1059830001486502e-5, 0.09952113894027417, 0.1676155147257981, 9.421656033957222e-5, 0.0017320256110700241, 0.0018524563934902935, 0.03582463183967598], :FTOL_REACHED, nothing)], :BORDER_FOUND_BY_SCAN_TOL, :left, 618, 0.012101167951784605), EndPoint(0.07396633561928612, ProfilePoint[ProfilePoint(0.07396633561928612, 7601.797651547756, [0.00031745380979800907, 0.059102582971136165, 0.07396633561928612, 5.942816360087657e-5, 0.0003836166249460225, 8.162951323468332e-6, 8.987991376268124e-5, 0.00019201843954034188, 3.092794038544681e-5, 0.0017034892644722489, 85.25909598285003, 6.433955895324757e-5, 0.5049368595403642, 0.4437466500438359, 0.008013285316578314, 0.0008030862182067389, 0.012051671790364819, 0.10860267285017669], :FTOL_REACHED, nothing)], :BORDER_FOUND_BY_SCAN_TOL, :right, 1333, 0.07396633561928612)))\n"
     ]
    },
    {
     "name": "stderr",
     "output_type": "stream",
     "text": [
      "┌ Warning: Close-to-zero parameters found when using :LN_NELDERMEAD.\n",
      "└ @ LikelihoodProfiler D:\\INSYSBIO\\repos\\LikelihoodProfiler\\src\\cico_one_pass.jl:35\n"
     ]
    },
    {
     "name": "stdout",
     "output_type": "stream",
     "text": [
      "[1, 4, 5, 6, 7, 8, 9, 10, 12, 15, 16, 17][1, 4, 5, 6, 7, 8, 9, 10, 12, 15, 16, 17]"
     ]
    },
    {
     "name": "stderr",
     "output_type": "stream",
     "text": [
      "┌ Warning: Close-to-zero parameters found when using :LN_NELDERMEAD.\n",
      "└ @ LikelihoodProfiler D:\\INSYSBIO\\repos\\LikelihoodProfiler\\src\\cico_one_pass.jl:35\n"
     ]
    },
    {
     "name": "stdout",
     "output_type": "stream",
     "text": [
      "ParamInterval(ParamIntervalInput([8.214372398674075e-5, 0.038808202411743396, 0.03662576098761518, 0.00010012014996470485, 2.7719175355951243e-5, 2.474460692476516e-6, 2.694037359564942e-5, 6.0835783479742275e-5, 3.49689020694743e-5, 0.0008975699271944685, 13.125339963271827, 1.0195830763745685e-5, 0.3293022587117055, 0.2805325079979767, 0.0005521115844559219, 0.0013129571635396384, 0.0030843102504628356, 0.03274237009232267], 4, getfield(Main, Symbol(\"##10#11\"))(), 7601.807304897038, Symbol[:direct, :direct, :direct, :direct, :direct, :direct, :direct, :direct, :direct, :direct, :direct, :direct, :direct, :direct, :direct, :direct, :direct, :direct], Tuple{Float64,Float64}[(1.0e-7, 1.0), (1.0e-5, 10.0), (1.0e-7, 10.0), (1.0e-5, 10.0), (1.0e-7, 10.0), (1.0e-7, 10.0), (1.0000000000000002e-6, 10.0), (1.0000000000000002e-6, 10.0), (1.0e-7, 10.0), (1.0000000000000002e-6, 10.0), (0.01, 1000.0), (1.0000000000000002e-6, 10.0), (1.0000000000000002e-6, 10.0), (0.0001, 1000.0), (1.0000000000000002e-6, 1.0), (1.0000000000000002e-6, 1.0), (1.0000000000000002e-6, 1.0), (1.0000000000000002e-6, 1.0)], (0.0001, 1.0), 0.0001, 0.001, :LN_NELDERMEAD, Base.Iterators.Pairs{Union{},Union{},Tuple{},NamedTuple{(),Tuple{}}}()), 7597.967304897038, :CICO_ONE_PASS, (EndPoint(nothing, ProfilePoint[], :SCAN_BOUND_REACHED, :left, 30, 8.057966867561949e-5), EndPoint(0.00010012014996470485, ProfilePoint[ProfilePoint(0.00010012014996470485, 7597.967304897038, [8.214372398674075e-5, 0.038808202411743396, 0.03662576098761518, 0.00010012014996470485, 2.7719175355951243e-5, 2.474460692476516e-6, 2.694037359564942e-5, 6.0835783479742275e-5, 3.49689020694743e-5, 0.0008975699271944685, 13.125339963271827, 1.0195830763745685e-5, 0.3293022587117055, 0.2805325079979767, 0.0005521115844559219, 0.0013129571635396384, 0.0030843102504628356, 0.03274237009232267], :FTOL_REACHED, nothing)], :BORDER_FOUND_BY_SCAN_TOL, :right, 82, 0.00010012014996470485)))\n"
     ]
    },
    {
     "name": "stderr",
     "output_type": "stream",
     "text": [
      "┌ Warning: Close-to-zero parameters found when using :LN_NELDERMEAD.\n",
      "└ @ LikelihoodProfiler D:\\INSYSBIO\\repos\\LikelihoodProfiler\\src\\cico_one_pass.jl:35\n"
     ]
    },
    {
     "name": "stdout",
     "output_type": "stream",
     "text": [
      "[1, 4, 5, 6, 7, 8, 9, 10, 12, 15, 16, 17][1, 4, 5, 6, 7, 8, 9, 10, 12, 15, 16, 17"
     ]
    },
    {
     "name": "stderr",
     "output_type": "stream",
     "text": [
      "┌ Warning: Close-to-zero parameters found when using :LN_NELDERMEAD.\n",
      "└ @ LikelihoodProfiler D:\\INSYSBIO\\repos\\LikelihoodProfiler\\src\\cico_one_pass.jl:35\n"
     ]
    },
    {
     "name": "stdout",
     "output_type": "stream",
     "text": [
      "]ParamInterval(ParamIntervalInput([8.214372398674075e-5, 0.038808202411743396, 0.03662576098761518, 0.00010012014996470485, 2.7719175355951243e-5, 2.474460692476516e-6, 2.694037359564942e-5, 6.0835783479742275e-5, 3.49689020694743e-5, 0.0008975699271944685, 13.125339963271827, 1.0195830763745685e-5, 0.3293022587117055, 0.2805325079979767, 0.0005521115844559219, 0.0013129571635396384, 0.0030843102504628356, 0.03274237009232267], 5, getfield(Main, Symbol(\"##10#11\"))(), 7601.807304897038, Symbol[:direct, :direct, :direct, :direct, :direct, :direct, :direct, :direct, :direct, :direct, :direct, :direct, :direct, :direct, :direct, :direct, :direct, :direct], Tuple{Float64,Float64}[(1.0e-7, 1.0), (1.0e-5, 10.0), (1.0e-7, 10.0), (1.0e-5, 10.0), (1.0e-7, 10.0), (1.0e-7, 10.0), (1.0000000000000002e-6, 10.0), (1.0000000000000002e-6, 10.0), (1.0e-7, 10.0), (1.0000000000000002e-6, 10.0), (0.01, 1000.0), (1.0000000000000002e-6, 10.0), (1.0000000000000002e-6, 10.0), (0.0001, 1000.0), (1.0000000000000002e-6, 1.0), (1.0000000000000002e-6, 1.0), (1.0000000000000002e-6, 1.0), (1.0000000000000002e-6, 1.0)], (1.0e-6, 1.0), 0.0001, 0.001, :LN_NELDERMEAD, Base.Iterators.Pairs{Union{},Union{},Tuple{},NamedTuple{(),Tuple{}}}()), 7597.967304897038, :CICO_ONE_PASS, (EndPoint(2.7719175355951243e-5, ProfilePoint[ProfilePoint(2.7719175355951243e-5, 7597.967304897038, [8.214372398674075e-5, 0.038808202411743396, 0.03662576098761518, 0.00010012014996470485, 2.7719175355951243e-5, 2.474460692476516e-6, 2.694037359564942e-5, 6.0835783479742275e-5, 3.49689020694743e-5, 0.0008975699271944685, 13.125339963271827, 1.0195830763745685e-5, 0.3293022587117055, 0.2805325079979767, 0.0005521115844559219, 0.0013129571635396384, 0.0030843102504628356, 0.03274237009232267], :FTOL_REACHED, nothing)], :BORDER_FOUND_BY_SCAN_TOL, :left, 93, 2.7719175355951243e-5), EndPoint(5.692292599856394e-5, ProfilePoint[ProfilePoint(5.692292599856394e-5, 7493.500814251242, [0.00015996585603920152, 0.07353299573544578, 0.03603177274017888, 8.057966867561949e-5, 5.692292599856394e-5, 3.6833310336836676e-6, 2.8357710131989568e-5, 6.403636191034878e-5, 3.470101265984107e-5, 0.0009447911970560828, 13.815865794911918, 1.3352754926378785e-5, 0.3466268930978748, 0.29529135949663876, 0.0006359213177804887, 0.0013820320095853803, 0.003065706165769666, 0.03446495041413804], :FTOL_REACHED, nothing)], :BORDER_FOUND_BY_SCAN_TOL, :right, 83, 5.692292599856394e-5)))\n",
      "[1, 4, 5, 6, 7, 8, 9, 10, 12, 15, 16, 17]"
     ]
    },
    {
     "name": "stderr",
     "output_type": "stream",
     "text": [
      "┌ Warning: Close-to-zero parameters found when using :LN_NELDERMEAD.\n",
      "└ @ LikelihoodProfiler D:\\INSYSBIO\\repos\\LikelihoodProfiler\\src\\cico_one_pass.jl:35\n"
     ]
    },
    {
     "name": "stdout",
     "output_type": "stream",
     "text": [
      "[1, 4, 5, 6, 7, 8, 9, 10, 12, 15, 16, 17]"
     ]
    },
    {
     "name": "stderr",
     "output_type": "stream",
     "text": [
      "┌ Warning: Close-to-zero parameters found when using :LN_NELDERMEAD.\n",
      "└ @ LikelihoodProfiler D:\\INSYSBIO\\repos\\LikelihoodProfiler\\src\\cico_one_pass.jl:35\n"
     ]
    },
    {
     "name": "stdout",
     "output_type": "stream",
     "text": [
      "ParamInterval(ParamIntervalInput([8.214372398674075e-5, 0.038808202411743396, 0.03662576098761518, 0.00010012014996470485, 2.7719175355951243e-5, 2.474460692476516e-6, 2.694037359564942e-5, 6.0835783479742275e-5, 3.49689020694743e-5, 0.0008975699271944685, 13.125339963271827, 1.0195830763745685e-5, 0.3293022587117055, 0.2805325079979767, 0.0005521115844559219, 0.0013129571635396384, 0.0030843102504628356, 0.03274237009232267], 6, getfield(Main, Symbol(\"##10#11\"))(), 7601.807304897038, Symbol[:direct, :direct, :direct, :direct, :direct, :direct, :direct, :direct, :direct, :direct, :direct, :direct, :direct, :direct, :direct, :direct, :direct, :direct], Tuple{Float64,Float64}[(1.0e-7, 1.0), (1.0e-5, 10.0), (1.0e-7, 10.0), (1.0e-5, 10.0), (1.0e-7, 10.0), (1.0e-7, 10.0), (1.0000000000000002e-6, 10.0), (1.0000000000000002e-6, 10.0), (1.0e-7, 10.0), (1.0000000000000002e-6, 10.0), (0.01, 1000.0), (1.0000000000000002e-6, 10.0), (1.0000000000000002e-6, 10.0), (0.0001, 1000.0), (1.0000000000000002e-6, 1.0), (1.0000000000000002e-6, 1.0), (1.0000000000000002e-6, 1.0), (1.0000000000000002e-6, 1.0)], (1.0e-6, 1.0), 0.0001, 0.001, :LN_NELDERMEAD, Base.Iterators.Pairs{Union{},Union{},Tuple{},NamedTuple{(),Tuple{}}}()), 7597.967304897038, :CICO_ONE_PASS, (EndPoint(2.474460692476516e-6, ProfilePoint[ProfilePoint(2.474460692476516e-6, 7597.967304897038, [8.214372398674075e-5, 0.038808202411743396, 0.03662576098761518, 0.00010012014996470485, 2.7719175355951243e-5, 2.474460692476516e-6, 2.694037359564942e-5, 6.0835783479742275e-5, 3.49689020694743e-5, 0.0008975699271944685, 13.125339963271827, 1.0195830763745685e-5, 0.3293022587117055, 0.2805325079979767, 0.0005521115844559219, 0.0013129571635396384, 0.0030843102504628356, 0.03274237009232267], :FTOL_REACHED, nothing)], :BORDER_FOUND_BY_SCAN_TOL, :left, 82, 2.474460692476516e-6), EndPoint(3.6833310336836676e-6, ProfilePoint[ProfilePoint(3.6833310336836676e-6, 7493.500814251242, [0.00015996585603920152, 0.07353299573544578, 0.03603177274017888, 8.057966867561949e-5, 5.692292599856394e-5, 3.6833310336836676e-6, 2.8357710131989568e-5, 6.403636191034878e-5, 3.470101265984107e-5, 0.0009447911970560828, 13.815865794911918, 1.3352754926378785e-5, 0.3466268930978748, 0.29529135949663876, 0.0006359213177804887, 0.0013820320095853803, 0.003065706165769666, 0.03446495041413804], :FTOL_REACHED, nothing)], :BORDER_FOUND_BY_SCAN_TOL, :right, 83, 3.6833310336836676e-6)))\n",
      "[1, 4, 5, 6, 7, 8, 9, 10, 12, 15, 16, 17]"
     ]
    },
    {
     "name": "stderr",
     "output_type": "stream",
     "text": [
      "┌ Warning: Close-to-zero parameters found when using :LN_NELDERMEAD.\n",
      "└ @ LikelihoodProfiler D:\\INSYSBIO\\repos\\LikelihoodProfiler\\src\\cico_one_pass.jl:35\n"
     ]
    },
    {
     "name": "stdout",
     "output_type": "stream",
     "text": [
      "[1, 4, 5, 6, 7, 8, 9, 10, 12, 15, 16, 17]"
     ]
    },
    {
     "name": "stderr",
     "output_type": "stream",
     "text": [
      "┌ Warning: Close-to-zero parameters found when using :LN_NELDERMEAD.\n",
      "└ @ LikelihoodProfiler D:\\INSYSBIO\\repos\\LikelihoodProfiler\\src\\cico_one_pass.jl:35\n"
     ]
    },
    {
     "name": "stdout",
     "output_type": "stream",
     "text": [
      "ParamInterval(ParamIntervalInput([8.214372398674075e-5, 0.038808202411743396, 0.03662576098761518, 0.00010012014996470485, 2.7719175355951243e-5, 2.474460692476516e-6, 2.694037359564942e-5, 6.0835783479742275e-5, 3.49689020694743e-5, 0.0008975699271944685, 13.125339963271827, 1.0195830763745685e-5, 0.3293022587117055, 0.2805325079979767, 0.0005521115844559219, 0.0013129571635396384, 0.0030843102504628356, 0.03274237009232267], 7, getfield(Main, Symbol(\"##10#11\"))(), 7601.807304897038, Symbol[:direct, :direct, :direct, :direct, :direct, :direct, :direct, :direct, :direct, :direct, :direct, :direct, :direct, :direct, :direct, :direct, :direct, :direct], Tuple{Float64,Float64}[(1.0e-7, 1.0), (1.0e-5, 10.0), (1.0e-7, 10.0), (1.0e-5, 10.0), (1.0e-7, 10.0), (1.0e-7, 10.0), (1.0000000000000002e-6, 10.0), (1.0000000000000002e-6, 10.0), (1.0e-7, 10.0), (1.0000000000000002e-6, 10.0), (0.01, 1000.0), (1.0000000000000002e-6, 10.0), (1.0000000000000002e-6, 10.0), (0.0001, 1000.0), (1.0000000000000002e-6, 1.0), (1.0000000000000002e-6, 1.0), (1.0000000000000002e-6, 1.0), (1.0000000000000002e-6, 1.0)], (1.0e-5, 1.0), 0.0001, 0.001, :LN_NELDERMEAD, Base.Iterators.Pairs{Union{},Union{},Tuple{},NamedTuple{(),Tuple{}}}()), 7597.967304897038, :CICO_ONE_PASS, (EndPoint(2.694037359564942e-5, ProfilePoint[ProfilePoint(2.694037359564942e-5, 7597.967304897038, [8.214372398674075e-5, 0.038808202411743396, 0.03662576098761518, 0.00010012014996470485, 2.7719175355951243e-5, 2.474460692476516e-6, 2.694037359564942e-5, 6.0835783479742275e-5, 3.49689020694743e-5, 0.0008975699271944685, 13.125339963271827, 1.0195830763745685e-5, 0.3293022587117055, 0.2805325079979767, 0.0005521115844559219, 0.0013129571635396384, 0.0030843102504628356, 0.03274237009232267], :FTOL_REACHED, nothing)], :BORDER_FOUND_BY_SCAN_TOL, :left, 82, 2.694037359564942e-5), EndPoint(3.410075073433558e-5, ProfilePoint[ProfilePoint(3.410075073433558e-5, 7589.743891636064, [0.00015901228528280784, 0.07263198065767745, 0.036701383661705764, 9.620180348081394e-5, 5.11256799951891e-5, 2.5332094220526446e-6, 3.410075073433558e-5, 6.36321217065104e-5, 3.581779082396667e-5, 0.0009292661703691229, 13.747556068333337, 1.3639052372321e-5, 0.34390125782491915, 0.2904616981363861, 0.0006590903160206619, 0.0013774902743794123, 0.0031832887920358105, 0.03432389997599551], :FTOL_REACHED, nothing)], :BORDER_FOUND_BY_SCAN_TOL, :right, 83, 3.410075073433558e-5)))\n",
      "[1, 4, 5, 6, 7, 8, 9, 10, 12, 15, 16, 17"
     ]
    },
    {
     "name": "stderr",
     "output_type": "stream",
     "text": [
      "┌ Warning: Close-to-zero parameters found when using :LN_NELDERMEAD.\n",
      "└ @ LikelihoodProfiler D:\\INSYSBIO\\repos\\LikelihoodProfiler\\src\\cico_one_pass.jl:35\n"
     ]
    },
    {
     "name": "stdout",
     "output_type": "stream",
     "text": [
      "][1, 4, 5, 6, 7, 8, 9, 10, 12, 15, 16, 17]"
     ]
    },
    {
     "name": "stderr",
     "output_type": "stream",
     "text": [
      "┌ Warning: Close-to-zero parameters found when using :LN_NELDERMEAD.\n",
      "└ @ LikelihoodProfiler D:\\INSYSBIO\\repos\\LikelihoodProfiler\\src\\cico_one_pass.jl:35\n"
     ]
    },
    {
     "name": "stdout",
     "output_type": "stream",
     "text": [
      "ParamInterval(ParamIntervalInput([8.214372398674075e-5, 0.038808202411743396, 0.03662576098761518, 0.00010012014996470485, 2.7719175355951243e-5, 2.474460692476516e-6, 2.694037359564942e-5, 6.0835783479742275e-5, 3.49689020694743e-5, 0.0008975699271944685, 13.125339963271827, 1.0195830763745685e-5, 0.3293022587117055, 0.2805325079979767, 0.0005521115844559219, 0.0013129571635396384, 0.0030843102504628356, 0.03274237009232267], 8, getfield(Main, Symbol(\"##10#11\"))(), 7601.807304897038, Symbol[:direct, :direct, :direct, :direct, :direct, :direct, :direct, :direct, :direct, :direct, :direct, :direct, :direct, :direct, :direct, :direct, :direct, :direct], Tuple{Float64,Float64}[(1.0e-7, 1.0), (1.0e-5, 10.0), (1.0e-7, 10.0), (1.0e-5, 10.0), (1.0e-7, 10.0), (1.0e-7, 10.0), (1.0000000000000002e-6, 10.0), (1.0000000000000002e-6, 10.0), (1.0e-7, 10.0), (1.0000000000000002e-6, 10.0), (0.01, 1000.0), (1.0000000000000002e-6, 10.0), (1.0000000000000002e-6, 10.0), (0.0001, 1000.0), (1.0000000000000002e-6, 1.0), (1.0000000000000002e-6, 1.0), (1.0000000000000002e-6, 1.0), (1.0000000000000002e-6, 1.0)], (1.0e-5, 1.0), 0.0001, 0.001, :LN_NELDERMEAD, Base.Iterators.Pairs{Union{},Union{},Tuple{},NamedTuple{(),Tuple{}}}()), 7597.967304897038, :CICO_ONE_PASS, (EndPoint(6.0835783479742275e-5, ProfilePoint[ProfilePoint(6.0835783479742275e-5, 7597.967304897038, [8.214372398674075e-5, 0.038808202411743396, 0.03662576098761518, 0.00010012014996470485, 2.7719175355951243e-5, 2.474460692476516e-6, 2.694037359564942e-5, 6.0835783479742275e-5, 3.49689020694743e-5, 0.0008975699271944685, 13.125339963271827, 1.0195830763745685e-5, 0.3293022587117055, 0.2805325079979767, 0.0005521115844559219, 0.0013129571635396384, 0.0030843102504628356, 0.03274237009232267], :FTOL_REACHED, nothing)], :BORDER_FOUND_BY_SCAN_TOL, :left, 82, 6.0835783479742275e-5), EndPoint(7.74160477418296e-5, ProfilePoint[ProfilePoint(7.74160477418296e-5, 7572.081279409938, [0.0001585207173260056, 0.07216750527621585, 0.03642071709624166, 9.652731875640878e-5, 5.075033791524778e-5, 2.544758683251184e-6, 2.7743328983049517e-5, 7.74160477418296e-5, 3.585395205550545e-5, 0.0009239498163864663, 13.79424571480953, 1.3501862111721885e-5, 0.3424810881882244, 0.2878384459535615, 0.0006559012471828617, 0.0013824915237941903, 0.0031238968373508667, 0.03444460904935309], :FTOL_REACHED, nothing)], :BORDER_FOUND_BY_SCAN_TOL, :right, 83, 7.74160477418296e-5)))\n",
      "[1, 4, 5, 6, 7, 8, 9, 10, 12, 15, 16, 17]"
     ]
    },
    {
     "name": "stderr",
     "output_type": "stream",
     "text": [
      "┌ Warning: Close-to-zero parameters found when using :LN_NELDERMEAD.\n",
      "└ @ LikelihoodProfiler D:\\INSYSBIO\\repos\\LikelihoodProfiler\\src\\cico_one_pass.jl:35\n"
     ]
    },
    {
     "name": "stdout",
     "output_type": "stream",
     "text": [
      "[1, 4, 5, 6, 7, 8, 9, 10, 12, 15, 16, 17"
     ]
    },
    {
     "name": "stderr",
     "output_type": "stream",
     "text": [
      "┌ Warning: Close-to-zero parameters found when using :LN_NELDERMEAD.\n",
      "└ @ LikelihoodProfiler D:\\INSYSBIO\\repos\\LikelihoodProfiler\\src\\cico_one_pass.jl:35\n"
     ]
    },
    {
     "name": "stdout",
     "output_type": "stream",
     "text": [
      "]ParamInterval(ParamIntervalInput([8.214372398674075e-5, 0.038808202411743396, 0.03662576098761518, 0.00010012014996470485, 2.7719175355951243e-5, 2.474460692476516e-6, 2.694037359564942e-5, 6.0835783479742275e-5, 3.49689020694743e-5, 0.0008975699271944685, 13.125339963271827, 1.0195830763745685e-5, 0.3293022587117055, 0.2805325079979767, 0.0005521115844559219, 0.0013129571635396384, 0.0030843102504628356, 0.03274237009232267], 9, getfield(Main, Symbol(\"##10#11\"))(), 7601.807304897038, Symbol[:direct, :direct, :direct, :direct, :direct, :direct, :direct, :direct, :direct, :direct, :direct, :direct, :direct, :direct, :direct, :direct, :direct, :direct], Tuple{Float64,Float64}[(1.0e-7, 1.0), (1.0e-5, 10.0), (1.0e-7, 10.0), (1.0e-5, 10.0), (1.0e-7, 10.0), (1.0e-7, 10.0), (1.0000000000000002e-6, 10.0), (1.0000000000000002e-6, 10.0), (1.0e-7, 10.0), (1.0000000000000002e-6, 10.0), (0.01, 1000.0), (1.0000000000000002e-6, 10.0), (1.0000000000000002e-6, 10.0), (0.0001, 1000.0), (1.0000000000000002e-6, 1.0), (1.0000000000000002e-6, 1.0), (1.0000000000000002e-6, 1.0), (1.0000000000000002e-6, 1.0)], (1.0e-6, 1.0), 0.0001, 0.001, :LN_NELDERMEAD, Base.Iterators.Pairs{Union{},Union{},Tuple{},NamedTuple{(),Tuple{}}}()), 7597.967304897038, :CICO_ONE_PASS, (EndPoint(2.7150574931492946e-5, ProfilePoint[ProfilePoint(2.7150574931492946e-5, 7588.38601689614, [0.00015167107272285845, 0.06569537615165005, 0.03572835581912612, 9.371045489817174e-5, 4.512002485305203e-5, 2.679423986209001e-6, 2.786262513372427e-5, 6.376185456792642e-5, 2.7150574931492946e-5, 0.0009196104123552428, 13.829432485567608, 1.4828647319520226e-5, 0.34366541079557655, 0.28676023283186547, 0.0006818455584621009, 0.0013929050319009529, 0.00297066290520238, 0.03461995684026323], :FTOL_REACHED, nothing)], :BORDER_FOUND_BY_SCAN_TOL, :left, 84, 2.7150574931492946e-5), EndPoint(3.7026585059781276e-5, ProfilePoint[ProfilePoint(3.7026585059781276e-5, 7580.872204553701, [0.0001568635507846389, 0.07060167281949134, 0.037274308462352426, 7.354119298705558e-5, 5.4790620628929354e-5, 2.4973889496698833e-6, 2.8651333260348538e-5, 6.53111036687028e-5, 3.7026585059781276e-5, 0.0009547922798117384, 14.10830516873091, 1.5726355828981458e-5, 0.3530319499315979, 0.2984380130394001, 0.0007266703681758065, 0.0014316181947469173, 0.003268429654960564, 0.03522150550659294], :FTOL_REACHED, nothing)], :BORDER_FOUND_BY_SCAN_TOL, :right, 83, 3.7026585059781276e-5)))\n",
      "[1, 4, 5, 6, 7, 8, 9, 10, 12, 15, 16, 17"
     ]
    },
    {
     "name": "stderr",
     "output_type": "stream",
     "text": [
      "┌ Warning: Close-to-zero parameters found when using :LN_NELDERMEAD.\n",
      "└ @ LikelihoodProfiler D:\\INSYSBIO\\repos\\LikelihoodProfiler\\src\\cico_one_pass.jl:35\n"
     ]
    },
    {
     "name": "stdout",
     "output_type": "stream",
     "text": [
      "][1, 4, 5, 6, 7, 8, 9, 10, 12, 15, 16, 17]"
     ]
    },
    {
     "name": "stderr",
     "output_type": "stream",
     "text": [
      "┌ Warning: Close-to-zero parameters found when using :LN_NELDERMEAD.\n",
      "└ @ LikelihoodProfiler D:\\INSYSBIO\\repos\\LikelihoodProfiler\\src\\cico_one_pass.jl:35\n"
     ]
    },
    {
     "name": "stdout",
     "output_type": "stream",
     "text": [
      "ParamInterval(ParamIntervalInput([8.214372398674075e-5, 0.038808202411743396, 0.03662576098761518, 0.00010012014996470485, 2.7719175355951243e-5, 2.474460692476516e-6, 2.694037359564942e-5, 6.0835783479742275e-5, 3.49689020694743e-5, 0.0008975699271944685, 13.125339963271827, 1.0195830763745685e-5, 0.3293022587117055, 0.2805325079979767, 0.0005521115844559219, 0.0013129571635396384, 0.0030843102504628356, 0.03274237009232267], 10, getfield(Main, Symbol(\"##10#11\"))(), 7601.807304897038, Symbol[:direct, :direct, :direct, :direct, :direct, :direct, :direct, :direct, :direct, :direct, :direct, :direct, :direct, :direct, :direct, :direct, :direct, :direct], Tuple{Float64,Float64}[(1.0e-7, 1.0), (1.0e-5, 10.0), (1.0e-7, 10.0), (1.0e-5, 10.0), (1.0e-7, 10.0), (1.0e-7, 10.0), (1.0000000000000002e-6, 10.0), (1.0000000000000002e-6, 10.0), (1.0e-7, 10.0), (1.0000000000000002e-6, 10.0), (0.01, 1000.0), (1.0000000000000002e-6, 10.0), (1.0000000000000002e-6, 10.0), (0.0001, 1000.0), (1.0000000000000002e-6, 1.0), (1.0000000000000002e-6, 1.0), (1.0000000000000002e-6, 1.0), (1.0000000000000002e-6, 1.0)], (1.0e-5, 1.0), 0.0001, 0.001, :LN_NELDERMEAD, Base.Iterators.Pairs{Union{},Union{},Tuple{},NamedTuple{(),Tuple{}}}()), 7597.967304897038, :CICO_ONE_PASS, (EndPoint(0.0008098787942592625, ProfilePoint[ProfilePoint(0.0008098787942592625, 7527.73029273003, [0.00015249623859538592, 0.06647506333041682, 0.03603065648857516, 9.4271263072986e-5, 4.557132216869697e-5, 2.6386566521267595e-6, 2.8032651226165555e-5, 6.37940009392623e-5, 3.42564861162287e-5, 0.0008098787942592625, 13.633509738865019, 1.452212661261951e-5, 0.3440710967916366, 0.28739250051549203, 0.0006688688849544214, 0.0013735155830834093, 0.0030204966985096964, 0.03413380643472292], :FTOL_REACHED, nothing)], :BORDER_FOUND_BY_SCAN_TOL, :left, 108, 0.0008098787942592625), EndPoint(0.0010264349415538233, ProfilePoint[ProfilePoint(0.0010264349415538233, 7568.643584085358, [0.00015765038732256655, 0.0713451431699172, 0.036477398485022655, 9.591768420683756e-5, 4.99951516309193e-5, 2.5544422191668528e-6, 2.7893497906502383e-5, 6.355809952743931e-5, 3.601969451110178e-5, 0.0010264349415538233, 13.919087056441708, 1.4032391596070395e-5, 0.3432113327120918, 0.2893268968315651, 0.0006746263308339817, 0.0013951273850668776, 0.0031366256405337325, 0.03475792941801973], :FTOL_REACHED, nothing)], :BORDER_FOUND_BY_SCAN_TOL, :right, 97, 0.0010264349415538233)))\n"
     ]
    },
    {
     "name": "stderr",
     "output_type": "stream",
     "text": [
      "┌ Warning: Close-to-zero parameters found when using :LN_NELDERMEAD.\n",
      "└ @ LikelihoodProfiler D:\\INSYSBIO\\repos\\LikelihoodProfiler\\src\\cico_one_pass.jl:35\n"
     ]
    },
    {
     "name": "stdout",
     "output_type": "stream",
     "text": [
      "[1, 4, 5, 6, 7, 8, 9, 10, 12, 15, 16, 17]"
     ]
    },
    {
     "name": "stderr",
     "output_type": "stream",
     "text": [
      "┌ Warning: dt <= dtmin. Aborting. There is either an error in your model specification or the true solution is unstable.\n",
      "└ @ DiffEqBase C:\\Julia-1.2.0\\packages\\DiffEqBase\\V40QH\\src\\integrator_interface.jl:162\n"
     ]
    },
    {
     "name": "stdout",
     "output_type": "stream",
     "text": [
      "[1, 4, 5, 6, 7, 8, 9, 10, 12, 15, 16, 17"
     ]
    },
    {
     "name": "stderr",
     "output_type": "stream",
     "text": [
      "┌ Warning: Close-to-zero parameters found when using :LN_NELDERMEAD.\n",
      "└ @ LikelihoodProfiler D:\\INSYSBIO\\repos\\LikelihoodProfiler\\src\\cico_one_pass.jl:35\n"
     ]
    },
    {
     "name": "stdout",
     "output_type": "stream",
     "text": [
      "]"
     ]
    },
    {
     "name": "stderr",
     "output_type": "stream",
     "text": [
      "┌ Warning: dt <= dtmin. Aborting. There is either an error in your model specification or the true solution is unstable.\n",
      "└ @ DiffEqBase C:\\Julia-1.2.0\\packages\\DiffEqBase\\V40QH\\src\\integrator_interface.jl:162\n",
      "┌ Warning: dt <= dtmin. Aborting. There is either an error in your model specification or the true solution is unstable.\n",
      "└ @ DiffEqBase C:\\Julia-1.2.0\\packages\\DiffEqBase\\V40QH\\src\\integrator_interface.jl:162\n",
      "┌ Warning: dt <= dtmin. Aborting. There is either an error in your model specification or the true solution is unstable.\n",
      "└ @ DiffEqBase C:\\Julia-1.2.0\\packages\\DiffEqBase\\V40QH\\src\\integrator_interface.jl:162\n",
      "┌ Warning: dt <= dtmin. Aborting. There is either an error in your model specification or the true solution is unstable.\n",
      "└ @ DiffEqBase C:\\Julia-1.2.0\\packages\\DiffEqBase\\V40QH\\src\\integrator_interface.jl:162\n",
      "┌ Warning: dt <= dtmin. Aborting. There is either an error in your model specification or the true solution is unstable.\n",
      "└ @ DiffEqBase C:\\Julia-1.2.0\\packages\\DiffEqBase\\V40QH\\src\\integrator_interface.jl:162\n",
      "┌ Warning: dt <= dtmin. Aborting. There is either an error in your model specification or the true solution is unstable.\n",
      "└ @ DiffEqBase C:\\Julia-1.2.0\\packages\\DiffEqBase\\V40QH\\src\\integrator_interface.jl:162\n",
      "┌ Warning: dt <= dtmin. Aborting. There is either an error in your model specification or the true solution is unstable.\n",
      "└ @ DiffEqBase C:\\Julia-1.2.0\\packages\\DiffEqBase\\V40QH\\src\\integrator_interface.jl:162\n",
      "┌ Warning: dt <= dtmin. Aborting. There is either an error in your model specification or the true solution is unstable.\n",
      "└ @ DiffEqBase C:\\Julia-1.2.0\\packages\\DiffEqBase\\V40QH\\src\\integrator_interface.jl:162\n",
      "┌ Warning: dt <= dtmin. Aborting. There is either an error in your model specification or the true solution is unstable.\n",
      "└ @ DiffEqBase C:\\Julia-1.2.0\\packages\\DiffEqBase\\V40QH\\src\\integrator_interface.jl:162\n",
      "┌ Warning: dt <= dtmin. Aborting. There is either an error in your model specification or the true solution is unstable.\n",
      "└ @ DiffEqBase C:\\Julia-1.2.0\\packages\\DiffEqBase\\V40QH\\src\\integrator_interface.jl:162\n",
      "┌ Warning: dt <= dtmin. Aborting. There is either an error in your model specification or the true solution is unstable.\n",
      "└ @ DiffEqBase C:\\Julia-1.2.0\\packages\\DiffEqBase\\V40QH\\src\\integrator_interface.jl:162\n"
     ]
    },
    {
     "name": "stdout",
     "output_type": "stream",
     "text": [
      "ParamInterval(ParamIntervalInput([8.214372398674075e-5, 0.038808202411743396, 0.03662576098761518, 0.00010012014996470485, 2.7719175355951243e-5, 2.474460692476516e-6, 2.694037359564942e-5, 6.0835783479742275e-5, 3.49689020694743e-5, 0.0008975699271944685, 13.125339963271827, 1.0195830763745685e-5, 0.3293022587117055, 0.2805325079979767, 0.0005521115844559219, 0.0013129571635396384, 0.0030843102504628356, 0.03274237009232267], 11, getfield(Main, Symbol(\"##10#11\"))(), 7601.807304897038, Symbol[:direct, :direct, :direct, :direct, :direct, :direct, :direct, :direct, :direct, :direct, :direct, :direct, :direct, :direct, :direct, :direct, :direct, :direct], Tuple{Float64,Float64}[(1.0e-7, 1.0), (1.0e-5, 10.0), (1.0e-7, 10.0), (1.0e-5, 10.0), (1.0e-7, 10.0), (1.0e-7, 10.0), (1.0000000000000002e-6, 10.0), (1.0000000000000002e-6, 10.0), (1.0e-7, 10.0), (1.0000000000000002e-6, 10.0), (0.01, 1000.0), (1.0000000000000002e-6, 10.0), (1.0000000000000002e-6, 10.0), (0.0001, 1000.0), (1.0000000000000002e-6, 1.0), (1.0000000000000002e-6, 1.0), (1.0000000000000002e-6, 1.0), (1.0000000000000002e-6, 1.0)], (0.1, 100.0), 0.0001, 0.001, :LN_NELDERMEAD, Base.Iterators.Pairs{Union{},Union{},Tuple{},NamedTuple{(),Tuple{}}}()), 7597.967444067342, :CICO_ONE_PASS, (EndPoint(nothing, ProfilePoint[], :SCAN_BOUND_REACHED, :left, 1197, 0.09973690776200395), EndPoint(nothing, ProfilePoint[], :SCAN_BOUND_REACHED, :right, 571, 100.70859412510568)))\n",
      "[1, 4, 5, 6, 7, 8, 9, 10, 12, 15, 16, 17]"
     ]
    },
    {
     "name": "stderr",
     "output_type": "stream",
     "text": [
      "┌ Warning: Close-to-zero parameters found when using :LN_NELDERMEAD.\n",
      "└ @ LikelihoodProfiler D:\\INSYSBIO\\repos\\LikelihoodProfiler\\src\\cico_one_pass.jl:35\n"
     ]
    },
    {
     "name": "stdout",
     "output_type": "stream",
     "text": [
      "[1, 4, 5, 6, 7, 8, 9, 10, 12, 15, 16, 17]"
     ]
    },
    {
     "name": "stderr",
     "output_type": "stream",
     "text": [
      "┌ Warning: Close-to-zero parameters found when using :LN_NELDERMEAD.\n",
      "└ @ LikelihoodProfiler D:\\INSYSBIO\\repos\\LikelihoodProfiler\\src\\cico_one_pass.jl:35\n"
     ]
    },
    {
     "name": "stdout",
     "output_type": "stream",
     "text": [
      "ParamInterval(ParamIntervalInput([8.214372398674075e-5, 0.038808202411743396, 0.03662576098761518, 0.00010012014996470485, 2.7719175355951243e-5, 2.474460692476516e-6, 2.694037359564942e-5, 6.0835783479742275e-5, 3.49689020694743e-5, 0.0008975699271944685, 13.125339963271827, 1.0195830763745685e-5, 0.3293022587117055, 0.2805325079979767, 0.0005521115844559219, 0.0013129571635396384, 0.0030843102504628356, 0.03274237009232267], 12, getfield(Main, Symbol(\"##10#11\"))(), 7601.807304897038, Symbol[:direct, :direct, :direct, :direct, :direct, :direct, :direct, :direct, :direct, :direct, :direct, :direct, :direct, :direct, :direct, :direct, :direct, :direct], Tuple{Float64,Float64}[(1.0e-7, 1.0), (1.0e-5, 10.0), (1.0e-7, 10.0), (1.0e-5, 10.0), (1.0e-7, 10.0), (1.0e-7, 10.0), (1.0000000000000002e-6, 10.0), (1.0000000000000002e-6, 10.0), (1.0e-7, 10.0), (1.0000000000000002e-6, 10.0), (0.01, 1000.0), (1.0000000000000002e-6, 10.0), (1.0000000000000002e-6, 10.0), (0.0001, 1000.0), (1.0000000000000002e-6, 1.0), (1.0000000000000002e-6, 1.0), (1.0000000000000002e-6, 1.0), (1.0000000000000002e-6, 1.0)], (1.0e-5, 1.0), 0.0001, 0.001, :LN_NELDERMEAD, Base.Iterators.Pairs{Union{},Union{},Tuple{},NamedTuple{(),Tuple{}}}()), 7597.967304897038, :CICO_ONE_PASS, (EndPoint(1.0195830763745685e-5, ProfilePoint[ProfilePoint(1.0195830763745685e-5, 7597.967304897038, [8.214372398674075e-5, 0.038808202411743396, 0.03662576098761518, 0.00010012014996470485, 2.7719175355951243e-5, 2.474460692476516e-6, 2.694037359564942e-5, 6.0835783479742275e-5, 3.49689020694743e-5, 0.0008975699271944685, 13.125339963271827, 1.0195830763745685e-5, 0.3293022587117055, 0.2805325079979767, 0.0005521115844559219, 0.0013129571635396384, 0.0030843102504628356, 0.03274237009232267], :FTOL_REACHED, nothing)], :BORDER_FOUND_BY_SCAN_TOL, :left, 81, 1.0195830763745685e-5), EndPoint(2.039166152749137e-5, ProfilePoint[ProfilePoint(2.039166152749137e-5, 7578.825412817581, [0.0001642874479734815, 0.07761640482348679, 0.03662576098761518, 0.00010012014996470485, 5.5438350711902485e-5, 2.474460692476516e-6, 2.694037359564942e-5, 6.0835783479742275e-5, 3.49689020694743e-5, 0.0008975699271944685, 13.125339963271827, 2.039166152749137e-5, 0.3293022587117055, 0.2805325079979767, 0.0011042231689118438, 0.0013129571635396384, 0.0030843102504628356, 0.03274237009232267], :FTOL_REACHED, nothing)], :BORDER_FOUND_BY_SCAN_TOL, :right, 82, 2.039166152749137e-5)))\n",
      "[1, 4, 5, 6, 7, 8, 9, 10, 12, 15, 16, 17"
     ]
    },
    {
     "name": "stderr",
     "output_type": "stream",
     "text": [
      "┌ Warning: Close-to-zero parameters found when using :LN_NELDERMEAD.\n",
      "└ @ LikelihoodProfiler D:\\INSYSBIO\\repos\\LikelihoodProfiler\\src\\cico_one_pass.jl:35\n"
     ]
    },
    {
     "name": "stdout",
     "output_type": "stream",
     "text": [
      "]"
     ]
    },
    {
     "name": "stderr",
     "output_type": "stream",
     "text": [
      "┌ Warning: dt <= dtmin. Aborting. There is either an error in your model specification or the true solution is unstable.\n",
      "└ @ DiffEqBase C:\\Julia-1.2.0\\packages\\DiffEqBase\\V40QH\\src\\integrator_interface.jl:162\n"
     ]
    },
    {
     "name": "stdout",
     "output_type": "stream",
     "text": [
      "[1, 4, 5, 6, 7, 8, 9, 10, 12, 15, 16, 17]"
     ]
    },
    {
     "name": "stderr",
     "output_type": "stream",
     "text": [
      "┌ Warning: Close-to-zero parameters found when using :LN_NELDERMEAD.\n",
      "└ @ LikelihoodProfiler D:\\INSYSBIO\\repos\\LikelihoodProfiler\\src\\cico_one_pass.jl:35\n"
     ]
    },
    {
     "name": "stdout",
     "output_type": "stream",
     "text": [
      "ParamInterval(ParamIntervalInput([8.214372398674075e-5, 0.038808202411743396, 0.03662576098761518, 0.00010012014996470485, 2.7719175355951243e-5, 2.474460692476516e-6, 2.694037359564942e-5, 6.0835783479742275e-5, 3.49689020694743e-5, 0.0008975699271944685, 13.125339963271827, 1.0195830763745685e-5, 0.3293022587117055, 0.2805325079979767, 0.0005521115844559219, 0.0013129571635396384, 0.0030843102504628356, 0.03274237009232267], 13, getfield(Main, Symbol(\"##10#11\"))(), 7601.807304897038, Symbol[:direct, :direct, :direct, :direct, :direct, :direct, :direct, :direct, :direct, :direct, :direct, :direct, :direct, :direct, :direct, :direct, :direct, :direct], Tuple{Float64,Float64}[(1.0e-7, 1.0), (1.0e-5, 10.0), (1.0e-7, 10.0), (1.0e-5, 10.0), (1.0e-7, 10.0), (1.0e-7, 10.0), (1.0000000000000002e-6, 10.0), (1.0000000000000002e-6, 10.0), (1.0e-7, 10.0), (1.0000000000000002e-6, 10.0), (0.01, 1000.0), (1.0000000000000002e-6, 10.0), (1.0000000000000002e-6, 10.0), (0.0001, 1000.0), (1.0000000000000002e-6, 1.0), (1.0000000000000002e-6, 1.0), (1.0000000000000002e-6, 1.0), (1.0000000000000002e-6, 1.0)], (1.0e-5, 1.0), 0.0001, 0.001, :LN_NELDERMEAD, Base.Iterators.Pairs{Union{},Union{},Tuple{},NamedTuple{(),Tuple{}}}()), 7597.967304897038, :CICO_ONE_PASS, (EndPoint(2.7773500084441637e-5, ProfilePoint[ProfilePoint(2.7773500084441637e-5, 7574.806320382518, [0.0001877801571211508, 0.02929761955553569, 0.02355178924112164, 0.0027530013910431637, 0.0008260705379194439, 8.029669972400854e-6, 4.4125401677669196e-5, 8.80231498196828e-5, 6.519006568957866e-5, 0.0003801276668562919, 13.66224369330422, 4.337535525956746e-6, 2.7773500084441637e-5, 0.3798177208084549, 0.027755050493994533, 0.002865508975799218, 0.15069274564535332, 0.49338094135913846], :FTOL_REACHED, nothing)], :BORDER_FOUND_BY_SCAN_TOL, :left, 1783, 1.1350720419401982e-5), EndPoint(nothing, ProfilePoint[], :SCAN_BOUND_REACHED, :right, 258, 1.0019010893325242)))\n"
     ]
    },
    {
     "name": "stderr",
     "output_type": "stream",
     "text": [
      "┌ Warning: Close-to-zero parameters found when using :LN_NELDERMEAD.\n",
      "└ @ LikelihoodProfiler D:\\INSYSBIO\\repos\\LikelihoodProfiler\\src\\cico_one_pass.jl:35\n"
     ]
    },
    {
     "name": "stdout",
     "output_type": "stream",
     "text": [
      "[1, 4, 5, 6, 7, 8, 9, 10, 12, 15, 16, 17]"
     ]
    },
    {
     "name": "stderr",
     "output_type": "stream",
     "text": [
      "┌ Warning: dt <= dtmin. Aborting. There is either an error in your model specification or the true solution is unstable.\n",
      "└ @ DiffEqBase C:\\Julia-1.2.0\\packages\\DiffEqBase\\V40QH\\src\\integrator_interface.jl:162\n"
     ]
    },
    {
     "name": "stdout",
     "output_type": "stream",
     "text": [
      "[1, 4, 5, 6, 7, 8, 9, 10, 12, 15, 16, 17]"
     ]
    },
    {
     "name": "stderr",
     "output_type": "stream",
     "text": [
      "┌ Warning: Close-to-zero parameters found when using :LN_NELDERMEAD.\n",
      "└ @ LikelihoodProfiler D:\\INSYSBIO\\repos\\LikelihoodProfiler\\src\\cico_one_pass.jl:35\n",
      "┌ Warning: dt <= dtmin. Aborting. There is either an error in your model specification or the true solution is unstable.\n",
      "└ @ DiffEqBase C:\\Julia-1.2.0\\packages\\DiffEqBase\\V40QH\\src\\integrator_interface.jl:162\n",
      "┌ Warning: dt <= dtmin. Aborting. There is either an error in your model specification or the true solution is unstable.\n",
      "└ @ DiffEqBase C:\\Julia-1.2.0\\packages\\DiffEqBase\\V40QH\\src\\integrator_interface.jl:162\n"
     ]
    },
    {
     "name": "stdout",
     "output_type": "stream",
     "text": [
      "ParamInterval(ParamIntervalInput([8.214372398674075e-5, 0.038808202411743396, 0.03662576098761518, 0.00010012014996470485, 2.7719175355951243e-5, 2.474460692476516e-6, 2.694037359564942e-5, 6.0835783479742275e-5, 3.49689020694743e-5, 0.0008975699271944685, 13.125339963271827, 1.0195830763745685e-5, 0.3293022587117055, 0.2805325079979767, 0.0005521115844559219, 0.0013129571635396384, 0.0030843102504628356, 0.03274237009232267], 14, getfield(Main, Symbol(\"##10#11\"))(), 7601.807304897038, Symbol[:direct, :direct, :direct, :direct, :direct, :direct, :direct, :direct, :direct, :direct, :direct, :direct, :direct, :direct, :direct, :direct, :direct, :direct], Tuple{Float64,Float64}[(1.0e-7, 1.0), (1.0e-5, 10.0), (1.0e-7, 10.0), (1.0e-5, 10.0), (1.0e-7, 10.0), (1.0e-7, 10.0), (1.0000000000000002e-6, 10.0), (1.0000000000000002e-6, 10.0), (1.0e-7, 10.0), (1.0000000000000002e-6, 10.0), (0.01, 1000.0), (1.0000000000000002e-6, 10.0), (1.0000000000000002e-6, 10.0), (0.0001, 1000.0), (1.0000000000000002e-6, 1.0), (1.0000000000000002e-6, 1.0), (1.0000000000000002e-6, 1.0), (1.0000000000000002e-6, 1.0)], (0.001, 100.0), 0.0001, 0.001, :LN_NELDERMEAD, Base.Iterators.Pairs{Union{},Union{},Tuple{},NamedTuple{(),Tuple{}}}()), 7597.967444067342, :CICO_ONE_PASS, (EndPoint(nothing, ProfilePoint[], :SCAN_BOUND_REACHED, :left, 331, -0.0001515414960925332), EndPoint(nothing, ProfilePoint[], :SCAN_BOUND_REACHED, :right, 8398, 100.3416336555668)))\n",
      "[1, 4, 5, 6, 7, 8, 9, 10, 12, 15, 16, 17]"
     ]
    },
    {
     "name": "stderr",
     "output_type": "stream",
     "text": [
      "┌ Warning: Close-to-zero parameters found when using :LN_NELDERMEAD.\n",
      "└ @ LikelihoodProfiler D:\\INSYSBIO\\repos\\LikelihoodProfiler\\src\\cico_one_pass.jl:35\n",
      "┌ Warning: dt <= dtmin. Aborting. There is either an error in your model specification or the true solution is unstable.\n",
      "└ @ DiffEqBase C:\\Julia-1.2.0\\packages\\DiffEqBase\\V40QH\\src\\integrator_interface.jl:162\n"
     ]
    },
    {
     "name": "stdout",
     "output_type": "stream",
     "text": [
      "[1, 4, 5, 6, 7, 8, 9, 10, 12, 15, 16, 17]"
     ]
    },
    {
     "name": "stderr",
     "output_type": "stream",
     "text": [
      "┌ Warning: Close-to-zero parameters found when using :LN_NELDERMEAD.\n",
      "└ @ LikelihoodProfiler D:\\INSYSBIO\\repos\\LikelihoodProfiler\\src\\cico_one_pass.jl:35\n",
      "┌ Warning: dt <= dtmin. Aborting. There is either an error in your model specification or the true solution is unstable.\n",
      "└ @ DiffEqBase C:\\Julia-1.2.0\\packages\\DiffEqBase\\V40QH\\src\\integrator_interface.jl:162\n",
      "┌ Warning: dt <= dtmin. Aborting. There is either an error in your model specification or the true solution is unstable.\n",
      "└ @ DiffEqBase C:\\Julia-1.2.0\\packages\\DiffEqBase\\V40QH\\src\\integrator_interface.jl:162\n",
      "┌ Warning: dt <= dtmin. Aborting. There is either an error in your model specification or the true solution is unstable.\n",
      "└ @ DiffEqBase C:\\Julia-1.2.0\\packages\\DiffEqBase\\V40QH\\src\\integrator_interface.jl:162\n",
      "┌ Warning: dt <= dtmin. Aborting. There is either an error in your model specification or the true solution is unstable.\n",
      "└ @ DiffEqBase C:\\Julia-1.2.0\\packages\\DiffEqBase\\V40QH\\src\\integrator_interface.jl:162\n",
      "┌ Warning: dt <= dtmin. Aborting. There is either an error in your model specification or the true solution is unstable.\n",
      "└ @ DiffEqBase C:\\Julia-1.2.0\\packages\\DiffEqBase\\V40QH\\src\\integrator_interface.jl:162\n",
      "┌ Warning: dt <= dtmin. Aborting. There is either an error in your model specification or the true solution is unstable.\n",
      "└ @ DiffEqBase C:\\Julia-1.2.0\\packages\\DiffEqBase\\V40QH\\src\\integrator_interface.jl:162\n",
      "┌ Warning: dt <= dtmin. Aborting. There is either an error in your model specification or the true solution is unstable.\n",
      "└ @ DiffEqBase C:\\Julia-1.2.0\\packages\\DiffEqBase\\V40QH\\src\\integrator_interface.jl:162\n",
      "┌ Warning: dt <= dtmin. Aborting. There is either an error in your model specification or the true solution is unstable.\n",
      "└ @ DiffEqBase C:\\Julia-1.2.0\\packages\\DiffEqBase\\V40QH\\src\\integrator_interface.jl:162\n"
     ]
    },
    {
     "name": "stdout",
     "output_type": "stream",
     "text": [
      "ParamInterval(ParamIntervalInput([8.214372398674075e-5, 0.038808202411743396, 0.03662576098761518, 0.00010012014996470485, 2.7719175355951243e-5, 2.474460692476516e-6, 2.694037359564942e-5, 6.0835783479742275e-5, 3.49689020694743e-5, 0.0008975699271944685, 13.125339963271827, 1.0195830763745685e-5, 0.3293022587117055, 0.2805325079979767, 0.0005521115844559219, 0.0013129571635396384, 0.0030843102504628356, 0.03274237009232267], 15, getfield(Main, Symbol(\"##10#11\"))(), 7601.807304897038, Symbol[:direct, :direct, :direct, :direct, :direct, :direct, :direct, :direct, :direct, :direct, :direct, :direct, :direct, :direct, :direct, :direct, :direct, :direct], Tuple{Float64,Float64}[(1.0e-7, 1.0), (1.0e-5, 10.0), (1.0e-7, 10.0), (1.0e-5, 10.0), (1.0e-7, 10.0), (1.0e-7, 10.0), (1.0000000000000002e-6, 10.0), (1.0000000000000002e-6, 10.0), (1.0e-7, 10.0), (1.0000000000000002e-6, 10.0), (0.01, 1000.0), (1.0000000000000002e-6, 10.0), (1.0000000000000002e-6, 10.0), (0.0001, 1000.0), (1.0000000000000002e-6, 1.0), (1.0000000000000002e-6, 1.0), (1.0000000000000002e-6, 1.0), (1.0000000000000002e-6, 1.0)], (1.0e-5, 0.1), 0.0001, 0.001, :LN_NELDERMEAD, Base.Iterators.Pairs{Union{},Union{},Tuple{},NamedTuple{(),Tuple{}}}()), 7597.967444067342, :CICO_ONE_PASS, (EndPoint(5.305466544191536e-5, ProfilePoint[ProfilePoint(5.305466544191536e-5, 7565.900302523209, [0.012295968364022022, 4.617536960170587, 0.04061730498385176, 0.00017140805246939516, 0.0006203936663030427, 5.330365854601532e-6, 2.857720809843696e-5, 6.872108786436468e-5, 0.00011715218121538384, 0.0012371567076357565, 47.83713224148755, 3.6100279597141395e-6, 0.38219976750267315, 0.378470501355761, 5.305466544191536e-5, 0.0038415986845230774, 0.006066152625681295, 0.07409675726616213], :FTOL_REACHED, nothing)], :BORDER_FOUND_BY_SCAN_TOL, :left, 704, 4.124723878577011e-5), EndPoint(nothing, ProfilePoint[], :SCAN_BOUND_REACHED, :right, 1351, 0.10521202852061634)))\n",
      "[1, 4, 5, 6, 7, 8, 9, 10, 12, 15, 16, 17]"
     ]
    },
    {
     "name": "stderr",
     "output_type": "stream",
     "text": [
      "┌ Warning: Close-to-zero parameters found when using :LN_NELDERMEAD.\n",
      "└ @ LikelihoodProfiler D:\\INSYSBIO\\repos\\LikelihoodProfiler\\src\\cico_one_pass.jl:35\n",
      "┌ Warning: dt <= dtmin. Aborting. There is either an error in your model specification or the true solution is unstable.\n",
      "└ @ DiffEqBase C:\\Julia-1.2.0\\packages\\DiffEqBase\\V40QH\\src\\integrator_interface.jl:162\n"
     ]
    },
    {
     "name": "stdout",
     "output_type": "stream",
     "text": [
      "[1, 4, 5, 6, 7, 8, 9, 10, 12, 15, 16, 17"
     ]
    },
    {
     "name": "stderr",
     "output_type": "stream",
     "text": [
      "┌ Warning: dt <= dtmin. Aborting. There is either an error in your model specification or the true solution is unstable.\n",
      "└ @ DiffEqBase C:\\Julia-1.2.0\\packages\\DiffEqBase\\V40QH\\src\\integrator_interface.jl:162\n",
      "┌ Warning: Close-to-zero parameters found when using :LN_NELDERMEAD.\n",
      "└ @ LikelihoodProfiler D:\\INSYSBIO\\repos\\LikelihoodProfiler\\src\\cico_one_pass.jl:35\n"
     ]
    },
    {
     "name": "stdout",
     "output_type": "stream",
     "text": [
      "]ParamInterval(ParamIntervalInput([8.214372398674075e-5, 0.038808202411743396, 0.03662576098761518, 0.00010012014996470485, 2.7719175355951243e-5, 2.474460692476516e-6, 2.694037359564942e-5, 6.0835783479742275e-5, 3.49689020694743e-5, 0.0008975699271944685, 13.125339963271827, 1.0195830763745685e-5, 0.3293022587117055, 0.2805325079979767, 0.0005521115844559219, 0.0013129571635396384, 0.0030843102504628356, 0.03274237009232267], 16, getfield(Main, Symbol(\"##10#11\"))(), 7601.807304897038, Symbol[:direct, :direct, :direct, :direct, :direct, :direct, :direct, :direct, :direct, :direct, :direct, :direct, :direct, :direct, :direct, :direct, :direct, :direct], Tuple{Float64,Float64}[(1.0e-7, 1.0), (1.0e-5, 10.0), (1.0e-7, 10.0), (1.0e-5, 10.0), (1.0e-7, 10.0), (1.0e-7, 10.0), (1.0000000000000002e-6, 10.0), (1.0000000000000002e-6, 10.0), (1.0e-7, 10.0), (1.0000000000000002e-6, 10.0), (0.01, 1000.0), (1.0000000000000002e-6, 10.0), (1.0000000000000002e-6, 10.0), (0.0001, 1000.0), (1.0000000000000002e-6, 1.0), (1.0000000000000002e-6, 1.0), (1.0000000000000002e-6, 1.0), (1.0000000000000002e-6, 1.0)], (1.0e-5, 0.1), 0.0001, 0.001, :LN_NELDERMEAD, Base.Iterators.Pairs{Union{},Union{},Tuple{},NamedTuple{(),Tuple{}}}()), 7597.967444067342, :CICO_ONE_PASS, (EndPoint(nothing, ProfilePoint[], :SCAN_BOUND_REACHED, :left, 247, 9.689328803381964e-6), EndPoint(nothing, ProfilePoint[], :SCAN_BOUND_REACHED, :right, 692, 0.10465321217938607)))\n",
      "[1, 4, 5, 6, 7, 8, 9, 10, 12, 15, 16, 17]"
     ]
    },
    {
     "name": "stderr",
     "output_type": "stream",
     "text": [
      "┌ Warning: Close-to-zero parameters found when using :LN_NELDERMEAD.\n",
      "└ @ LikelihoodProfiler D:\\INSYSBIO\\repos\\LikelihoodProfiler\\src\\cico_one_pass.jl:35\n"
     ]
    },
    {
     "name": "stdout",
     "output_type": "stream",
     "text": [
      "[1, 4, 5, 6, 7, 8, 9, 10, 12, 15, 16, 17]"
     ]
    },
    {
     "name": "stderr",
     "output_type": "stream",
     "text": [
      "┌ Warning: Close-to-zero parameters found when using :LN_NELDERMEAD.\n",
      "└ @ LikelihoodProfiler D:\\INSYSBIO\\repos\\LikelihoodProfiler\\src\\cico_one_pass.jl:35\n"
     ]
    },
    {
     "name": "stdout",
     "output_type": "stream",
     "text": [
      "ParamInterval(ParamIntervalInput([8.214372398674075e-5, 0.038808202411743396, 0.03662576098761518, 0.00010012014996470485, 2.7719175355951243e-5, 2.474460692476516e-6, 2.694037359564942e-5, 6.0835783479742275e-5, 3.49689020694743e-5, 0.0008975699271944685, 13.125339963271827, 1.0195830763745685e-5, 0.3293022587117055, 0.2805325079979767, 0.0005521115844559219, 0.0013129571635396384, 0.0030843102504628356, 0.03274237009232267], 17, getfield(Main, Symbol(\"##10#11\"))(), 7601.807304897038, Symbol[:direct, :direct, :direct, :direct, :direct, :direct, :direct, :direct, :direct, :direct, :direct, :direct, :direct, :direct, :direct, :direct, :direct, :direct], Tuple{Float64,Float64}[(1.0e-7, 1.0), (1.0e-5, 10.0), (1.0e-7, 10.0), (1.0e-5, 10.0), (1.0e-7, 10.0), (1.0e-7, 10.0), (1.0000000000000002e-6, 10.0), (1.0000000000000002e-6, 10.0), (1.0e-7, 10.0), (1.0000000000000002e-6, 10.0), (0.01, 1000.0), (1.0000000000000002e-6, 10.0), (1.0000000000000002e-6, 10.0), (0.0001, 1000.0), (1.0000000000000002e-6, 1.0), (1.0000000000000002e-6, 1.0), (1.0000000000000002e-6, 1.0), (1.0000000000000002e-6, 1.0)], (1.0e-5, 0.1), 0.0001, 0.001, :LN_NELDERMEAD, Base.Iterators.Pairs{Union{},Union{},Tuple{},NamedTuple{(),Tuple{}}}()), 7597.967444067342, :CICO_ONE_PASS, (EndPoint(9.668517552373674e-5, ProfilePoint[ProfilePoint(9.668517552373674e-5, 7502.568312792484, [0.008352611638044192, 1.6933829335731092, 0.027005950703091107, 0.0019583780370209603, 0.0007030241175055504, 5.923167044098465e-6, 3.4581222187437475e-5, 6.984710930479668e-5, 0.00010294446870203416, 0.0003066709342882325, 17.866614558504054, 2.2393042999318196e-6, 0.6824317739411457, 0.54619285950434, 0.03053788038393259, 0.013630259928070168, 9.668517552373674e-5, 0.04113854678126158], :FTOL_REACHED, nothing)], :BORDER_FOUND_BY_SCAN_TOL, :left, 849, 6.067533001487412e-5), EndPoint(0.02061110742198593, ProfilePoint[ProfilePoint(0.02061110742198593, 7601.092931605286, [0.0015730605488939752, 0.4527652284838418, 0.02561181151769939, 2.452606661545953e-5, 0.00024367985272116382, 2.0776434810696904e-6, 7.952110736052697e-6, 4.3666753834814775e-6, 5.5541935061439745e-5, 0.0002570064827276801, 6.576926840962045, 4.247932954828303e-5, 0.03094559360820365, 0.37474765922004705, 0.004184875072184204, 0.001939007257394112, 0.02061110742198593, 0.0027723776463025453], :FTOL_REACHED, nothing)], :BORDER_FOUND_BY_SCAN_TOL, :right, 870, 0.02061110742198593)))\n",
      "[1, 4, 5, 6, 7, 8, 9, 10, 12, 15, 16, 17"
     ]
    },
    {
     "name": "stderr",
     "output_type": "stream",
     "text": [
      "┌ Warning: Close-to-zero parameters found when using :LN_NELDERMEAD.\n",
      "└ @ LikelihoodProfiler D:\\INSYSBIO\\repos\\LikelihoodProfiler\\src\\cico_one_pass.jl:35\n"
     ]
    },
    {
     "name": "stdout",
     "output_type": "stream",
     "text": [
      "]"
     ]
    },
    {
     "name": "stderr",
     "output_type": "stream",
     "text": [
      "┌ Warning: dt <= dtmin. Aborting. There is either an error in your model specification or the true solution is unstable.\n",
      "└ @ DiffEqBase C:\\Julia-1.2.0\\packages\\DiffEqBase\\V40QH\\src\\integrator_interface.jl:162\n"
     ]
    },
    {
     "name": "stdout",
     "output_type": "stream",
     "text": [
      "[1, 4, 5, 6, 7, 8, 9, 10, 12, 15, 16, 17"
     ]
    },
    {
     "name": "stderr",
     "output_type": "stream",
     "text": [
      "┌ Warning: Close-to-zero parameters found when using :LN_NELDERMEAD.\n",
      "└ @ LikelihoodProfiler D:\\INSYSBIO\\repos\\LikelihoodProfiler\\src\\cico_one_pass.jl:35\n"
     ]
    },
    {
     "name": "stdout",
     "output_type": "stream",
     "text": [
      "]"
     ]
    },
    {
     "name": "stderr",
     "output_type": "stream",
     "text": [
      "┌ Warning: dt <= dtmin. Aborting. There is either an error in your model specification or the true solution is unstable.\n",
      "└ @ DiffEqBase C:\\Julia-1.2.0\\packages\\DiffEqBase\\V40QH\\src\\integrator_interface.jl:162\n"
     ]
    },
    {
     "name": "stdout",
     "output_type": "stream",
     "text": [
      "ParamInterval(ParamIntervalInput([8.214372398674075e-5, 0.038808202411743396, 0.03662576098761518, 0.00010012014996470485, 2.7719175355951243e-5, 2.474460692476516e-6, 2.694037359564942e-5, 6.0835783479742275e-5, 3.49689020694743e-5, 0.0008975699271944685, 13.125339963271827, 1.0195830763745685e-5, 0.3293022587117055, 0.2805325079979767, 0.0005521115844559219, 0.0013129571635396384, 0.0030843102504628356, 0.03274237009232267], 18, getfield(Main, Symbol(\"##10#11\"))(), 7601.807304897038, Symbol[:direct, :direct, :direct, :direct, :direct, :direct, :direct, :direct, :direct, :direct, :direct, :direct, :direct, :direct, :direct, :direct, :direct, :direct], Tuple{Float64,Float64}[(1.0e-7, 1.0), (1.0e-5, 10.0), (1.0e-7, 10.0), (1.0e-5, 10.0), (1.0e-7, 10.0), (1.0e-7, 10.0), (1.0000000000000002e-6, 10.0), (1.0000000000000002e-6, 10.0), (1.0e-7, 10.0), (1.0000000000000002e-6, 10.0), (0.01, 1000.0), (1.0000000000000002e-6, 10.0), (1.0000000000000002e-6, 10.0), (0.0001, 1000.0), (1.0000000000000002e-6, 1.0), (1.0000000000000002e-6, 1.0), (1.0000000000000002e-6, 1.0), (1.0000000000000002e-6, 1.0)], (1.0e-5, 0.1), 0.0001, 0.001, :LN_NELDERMEAD, Base.Iterators.Pairs{Union{},Union{},Tuple{},NamedTuple{(),Tuple{}}}()), 7597.967444067342, :CICO_ONE_PASS, (EndPoint(0.0005129951254336662, ProfilePoint[ProfilePoint(0.0005129951254336662, 7598.221951646008, [0.0002518871174739356, 0.04373706776013047, 0.038429390197243896, 5.512044859093691e-5, 5.0772628839062834e-5, 3.5154549488002662e-6, 2.0382591703727016e-5, 7.443429692101636e-5, 3.4653618627647815e-5, 0.0009451053587461467, 5.567390402314971, 2.7962695224508146e-6, 0.1155471156340735, 0.32783894266071995, 0.00015779833346686833, 0.0016804366111909282, 0.0029510635713734814, 0.0005129951254336662], :FTOL_REACHED, nothing)], :BORDER_FOUND_BY_SCAN_TOL, :left, 612, 0.0005129951254336662), EndPoint(nothing, ProfilePoint[], :SCAN_BOUND_REACHED, :right, 245, 0.10249974597147068)))\n"
     ]
    }
   ],
   "source": [
    "α = loss + 3.84\n",
    "scan_bounds = tuple.(lb,ub)\n",
    "theta_bounds = tuple.(lb/10.,ub*10)\n",
    "\n",
    "intervals = Vector{ParamInterval}(undef,length(p))\n",
    "for i in eachindex(p)\n",
    "    \n",
    "    intervals[i] = get_interval(\n",
    "        p,\n",
    "        i,\n",
    "        (p)->obj_func(p),\n",
    "        :CICO_ONE_PASS,\n",
    "        loss_crit = α,\n",
    "        theta_bounds = theta_bounds,\n",
    "        scan_bounds = scan_bounds[i],\n",
    "        local_alg = :LN_NELDERMEAD,\n",
    "        scan_tol = 1e-4,\n",
    "        #scale = fill(:log,length(p))\n",
    "    )\n",
    "    println(intervals[i]) \n",
    "end"
   ]
  },
  {
   "cell_type": "code",
   "execution_count": 10,
   "metadata": {},
   "outputs": [
    {
     "data": {
      "text/html": [
       "<table class=\"data-frame\"><thead><tr><th></th><th>Parameter</th><th>Status_lower</th><th>Status_upper</th><th>CI_lower</th><th>CI_upper</th><th>Fitted_value</th><th>Start_values</th><th>Nominal_values</th></tr><tr><th></th><th>Symbol</th><th>Symbol</th><th>Symbol</th><th>Union…</th><th>Union…</th><th>Float64</th><th>Float64</th><th>Float64</th></tr></thead><tbody><p>18 rows × 8 columns</p><tr><th>1</th><td>k1</td><td>BORDER_FOUND_BY_SCAN_TOL</td><td>BORDER_FOUND_BY_SCAN_TOL</td><td>8.21437e-5</td><td>0.000164287</td><td>8.21437e-5</td><td>3.52e-5</td><td>0.00015</td></tr><tr><th>2</th><td>k2</td><td>BORDER_FOUND_BY_SCAN_TOL</td><td>SCAN_BOUND_REACHED</td><td>0.00304255</td><td></td><td>0.0388082</td><td>0.00131226</td><td>0.023</td></tr><tr><th>3</th><td>k4</td><td>BORDER_FOUND_BY_SCAN_TOL</td><td>BORDER_FOUND_BY_SCAN_TOL</td><td>0.0121012</td><td>0.0739663</td><td>0.0366258</td><td>0.00151732</td><td>0.01</td></tr><tr><th>4</th><td>k5</td><td>SCAN_BOUND_REACHED</td><td>BORDER_FOUND_BY_SCAN_TOL</td><td></td><td>0.00010012</td><td>0.00010012</td><td>0.0395871</td><td>0.01</td></tr><tr><th>5</th><td>k6</td><td>BORDER_FOUND_BY_SCAN_TOL</td><td>BORDER_FOUND_BY_SCAN_TOL</td><td>2.77192e-5</td><td>5.69229e-5</td><td>2.77192e-5</td><td>1.63e-5</td><td>0.1</td></tr><tr><th>6</th><td>k7</td><td>BORDER_FOUND_BY_SCAN_TOL</td><td>BORDER_FOUND_BY_SCAN_TOL</td><td>2.47446e-6</td><td>3.68333e-6</td><td>2.47446e-6</td><td>0.000251247</td><td>0.000404</td></tr><tr><th>7</th><td>k8</td><td>BORDER_FOUND_BY_SCAN_TOL</td><td>BORDER_FOUND_BY_SCAN_TOL</td><td>2.69404e-5</td><td>3.41008e-5</td><td>2.69404e-5</td><td>0.000112007</td><td>0.0026</td></tr><tr><th>8</th><td>k9</td><td>BORDER_FOUND_BY_SCAN_TOL</td><td>BORDER_FOUND_BY_SCAN_TOL</td><td>6.08358e-5</td><td>7.7416e-5</td><td>6.08358e-5</td><td>0.00783227</td><td>0.0056</td></tr><tr><th>9</th><td>k10</td><td>BORDER_FOUND_BY_SCAN_TOL</td><td>BORDER_FOUND_BY_SCAN_TOL</td><td>2.71506e-5</td><td>3.70266e-5</td><td>3.49689e-5</td><td>0.0424562</td><td>0.002</td></tr><tr><th>10</th><td>k11</td><td>BORDER_FOUND_BY_SCAN_TOL</td><td>BORDER_FOUND_BY_SCAN_TOL</td><td>0.000809879</td><td>0.00102643</td><td>0.00089757</td><td>0.000142716</td><td>0.016</td></tr><tr><th>11</th><td>k12</td><td>SCAN_BOUND_REACHED</td><td>SCAN_BOUND_REACHED</td><td></td><td></td><td>13.1253</td><td>8.20992</td><td>5.7</td></tr><tr><th>12</th><td>k13</td><td>BORDER_FOUND_BY_SCAN_TOL</td><td>BORDER_FOUND_BY_SCAN_TOL</td><td>1.01958e-5</td><td>2.03917e-5</td><td>1.01958e-5</td><td>0.000270499</td><td>0.00657</td></tr><tr><th>13</th><td>k14</td><td>BORDER_FOUND_BY_SCAN_TOL</td><td>SCAN_BOUND_REACHED</td><td>2.77735e-5</td><td></td><td>0.329302</td><td>0.0213893</td><td>0.0017</td></tr><tr><th>14</th><td>k15</td><td>SCAN_BOUND_REACHED</td><td>SCAN_BOUND_REACHED</td><td></td><td></td><td>0.280533</td><td>1.41254</td><td>1.0</td></tr><tr><th>15</th><td>k16</td><td>BORDER_FOUND_BY_SCAN_TOL</td><td>SCAN_BOUND_REACHED</td><td>5.30547e-5</td><td></td><td>0.000552112</td><td>0.000121978</td><td>0.0008</td></tr><tr><th>16</th><td>k17</td><td>SCAN_BOUND_REACHED</td><td>SCAN_BOUND_REACHED</td><td></td><td></td><td>0.00131296</td><td>0.00658392</td><td>0.001</td></tr><tr><th>17</th><td>k18</td><td>BORDER_FOUND_BY_SCAN_TOL</td><td>BORDER_FOUND_BY_SCAN_TOL</td><td>9.66852e-5</td><td>0.0206111</td><td>0.00308431</td><td>0.000205464</td><td>0.0021</td></tr><tr><th>18</th><td>k19</td><td>BORDER_FOUND_BY_SCAN_TOL</td><td>SCAN_BOUND_REACHED</td><td>0.000512995</td><td></td><td>0.0327424</td><td>0.0111338</td><td>0.001</td></tr></tbody></table>"
      ],
      "text/latex": [
       "\\begin{tabular}{r|cccccccc}\n",
       "\t& Parameter & Status\\_lower & Status\\_upper & CI\\_lower & CI\\_upper & Fitted\\_value & Start\\_values & Nominal\\_values\\\\\n",
       "\t\\hline\n",
       "\t& Symbol & Symbol & Symbol & Union… & Union… & Float64 & Float64 & Float64\\\\\n",
       "\t\\hline\n",
       "\t1 & k1 & BORDER\\_FOUND\\_BY\\_SCAN\\_TOL & BORDER\\_FOUND\\_BY\\_SCAN\\_TOL & 8.21437e-5 & 0.000164287 & 8.21437e-5 & 3.52e-5 & 0.00015 \\\\\n",
       "\t2 & k2 & BORDER\\_FOUND\\_BY\\_SCAN\\_TOL & SCAN\\_BOUND\\_REACHED & 0.00304255 &  & 0.0388082 & 0.00131226 & 0.023 \\\\\n",
       "\t3 & k4 & BORDER\\_FOUND\\_BY\\_SCAN\\_TOL & BORDER\\_FOUND\\_BY\\_SCAN\\_TOL & 0.0121012 & 0.0739663 & 0.0366258 & 0.00151732 & 0.01 \\\\\n",
       "\t4 & k5 & SCAN\\_BOUND\\_REACHED & BORDER\\_FOUND\\_BY\\_SCAN\\_TOL &  & 0.00010012 & 0.00010012 & 0.0395871 & 0.01 \\\\\n",
       "\t5 & k6 & BORDER\\_FOUND\\_BY\\_SCAN\\_TOL & BORDER\\_FOUND\\_BY\\_SCAN\\_TOL & 2.77192e-5 & 5.69229e-5 & 2.77192e-5 & 1.63e-5 & 0.1 \\\\\n",
       "\t6 & k7 & BORDER\\_FOUND\\_BY\\_SCAN\\_TOL & BORDER\\_FOUND\\_BY\\_SCAN\\_TOL & 2.47446e-6 & 3.68333e-6 & 2.47446e-6 & 0.000251247 & 0.000404 \\\\\n",
       "\t7 & k8 & BORDER\\_FOUND\\_BY\\_SCAN\\_TOL & BORDER\\_FOUND\\_BY\\_SCAN\\_TOL & 2.69404e-5 & 3.41008e-5 & 2.69404e-5 & 0.000112007 & 0.0026 \\\\\n",
       "\t8 & k9 & BORDER\\_FOUND\\_BY\\_SCAN\\_TOL & BORDER\\_FOUND\\_BY\\_SCAN\\_TOL & 6.08358e-5 & 7.7416e-5 & 6.08358e-5 & 0.00783227 & 0.0056 \\\\\n",
       "\t9 & k10 & BORDER\\_FOUND\\_BY\\_SCAN\\_TOL & BORDER\\_FOUND\\_BY\\_SCAN\\_TOL & 2.71506e-5 & 3.70266e-5 & 3.49689e-5 & 0.0424562 & 0.002 \\\\\n",
       "\t10 & k11 & BORDER\\_FOUND\\_BY\\_SCAN\\_TOL & BORDER\\_FOUND\\_BY\\_SCAN\\_TOL & 0.000809879 & 0.00102643 & 0.00089757 & 0.000142716 & 0.016 \\\\\n",
       "\t11 & k12 & SCAN\\_BOUND\\_REACHED & SCAN\\_BOUND\\_REACHED &  &  & 13.1253 & 8.20992 & 5.7 \\\\\n",
       "\t12 & k13 & BORDER\\_FOUND\\_BY\\_SCAN\\_TOL & BORDER\\_FOUND\\_BY\\_SCAN\\_TOL & 1.01958e-5 & 2.03917e-5 & 1.01958e-5 & 0.000270499 & 0.00657 \\\\\n",
       "\t13 & k14 & BORDER\\_FOUND\\_BY\\_SCAN\\_TOL & SCAN\\_BOUND\\_REACHED & 2.77735e-5 &  & 0.329302 & 0.0213893 & 0.0017 \\\\\n",
       "\t14 & k15 & SCAN\\_BOUND\\_REACHED & SCAN\\_BOUND\\_REACHED &  &  & 0.280533 & 1.41254 & 1.0 \\\\\n",
       "\t15 & k16 & BORDER\\_FOUND\\_BY\\_SCAN\\_TOL & SCAN\\_BOUND\\_REACHED & 5.30547e-5 &  & 0.000552112 & 0.000121978 & 0.0008 \\\\\n",
       "\t16 & k17 & SCAN\\_BOUND\\_REACHED & SCAN\\_BOUND\\_REACHED &  &  & 0.00131296 & 0.00658392 & 0.001 \\\\\n",
       "\t17 & k18 & BORDER\\_FOUND\\_BY\\_SCAN\\_TOL & BORDER\\_FOUND\\_BY\\_SCAN\\_TOL & 9.66852e-5 & 0.0206111 & 0.00308431 & 0.000205464 & 0.0021 \\\\\n",
       "\t18 & k19 & BORDER\\_FOUND\\_BY\\_SCAN\\_TOL & SCAN\\_BOUND\\_REACHED & 0.000512995 &  & 0.0327424 & 0.0111338 & 0.001 \\\\\n",
       "\\end{tabular}\n"
      ],
      "text/plain": [
       "18×8 DataFrame. Omitted printing of 2 columns\n",
       "│ Row │ Parameter │ Status_lower             │ Status_upper             │ CI_lower    │ CI_upper    │ Fitted_value │\n",
       "│     │ \u001b[90mSymbol\u001b[39m    │ \u001b[90mSymbol\u001b[39m                   │ \u001b[90mSymbol\u001b[39m                   │ \u001b[90mUnion…\u001b[39m      │ \u001b[90mUnion…\u001b[39m      │ \u001b[90mFloat64\u001b[39m      │\n",
       "├─────┼───────────┼──────────────────────────┼──────────────────────────┼─────────────┼─────────────┼──────────────┤\n",
       "│ 1   │ k1        │ BORDER_FOUND_BY_SCAN_TOL │ BORDER_FOUND_BY_SCAN_TOL │ 8.21437e-5  │ 0.000164287 │ 8.21437e-5   │\n",
       "│ 2   │ k2        │ BORDER_FOUND_BY_SCAN_TOL │ SCAN_BOUND_REACHED       │ 0.00304255  │             │ 0.0388082    │\n",
       "│ 3   │ k4        │ BORDER_FOUND_BY_SCAN_TOL │ BORDER_FOUND_BY_SCAN_TOL │ 0.0121012   │ 0.0739663   │ 0.0366258    │\n",
       "│ 4   │ k5        │ SCAN_BOUND_REACHED       │ BORDER_FOUND_BY_SCAN_TOL │             │ 0.00010012  │ 0.00010012   │\n",
       "│ 5   │ k6        │ BORDER_FOUND_BY_SCAN_TOL │ BORDER_FOUND_BY_SCAN_TOL │ 2.77192e-5  │ 5.69229e-5  │ 2.77192e-5   │\n",
       "│ 6   │ k7        │ BORDER_FOUND_BY_SCAN_TOL │ BORDER_FOUND_BY_SCAN_TOL │ 2.47446e-6  │ 3.68333e-6  │ 2.47446e-6   │\n",
       "│ 7   │ k8        │ BORDER_FOUND_BY_SCAN_TOL │ BORDER_FOUND_BY_SCAN_TOL │ 2.69404e-5  │ 3.41008e-5  │ 2.69404e-5   │\n",
       "│ 8   │ k9        │ BORDER_FOUND_BY_SCAN_TOL │ BORDER_FOUND_BY_SCAN_TOL │ 6.08358e-5  │ 7.7416e-5   │ 6.08358e-5   │\n",
       "│ 9   │ k10       │ BORDER_FOUND_BY_SCAN_TOL │ BORDER_FOUND_BY_SCAN_TOL │ 2.71506e-5  │ 3.70266e-5  │ 3.49689e-5   │\n",
       "│ 10  │ k11       │ BORDER_FOUND_BY_SCAN_TOL │ BORDER_FOUND_BY_SCAN_TOL │ 0.000809879 │ 0.00102643  │ 0.00089757   │\n",
       "│ 11  │ k12       │ SCAN_BOUND_REACHED       │ SCAN_BOUND_REACHED       │             │             │ 13.1253      │\n",
       "│ 12  │ k13       │ BORDER_FOUND_BY_SCAN_TOL │ BORDER_FOUND_BY_SCAN_TOL │ 1.01958e-5  │ 2.03917e-5  │ 1.01958e-5   │\n",
       "│ 13  │ k14       │ BORDER_FOUND_BY_SCAN_TOL │ SCAN_BOUND_REACHED       │ 2.77735e-5  │             │ 0.329302     │\n",
       "│ 14  │ k15       │ SCAN_BOUND_REACHED       │ SCAN_BOUND_REACHED       │             │             │ 0.280533     │\n",
       "│ 15  │ k16       │ BORDER_FOUND_BY_SCAN_TOL │ SCAN_BOUND_REACHED       │ 5.30547e-5  │             │ 0.000552112  │\n",
       "│ 16  │ k17       │ SCAN_BOUND_REACHED       │ SCAN_BOUND_REACHED       │             │             │ 0.00131296   │\n",
       "│ 17  │ k18       │ BORDER_FOUND_BY_SCAN_TOL │ BORDER_FOUND_BY_SCAN_TOL │ 9.66852e-5  │ 0.0206111   │ 0.00308431   │\n",
       "│ 18  │ k19       │ BORDER_FOUND_BY_SCAN_TOL │ SCAN_BOUND_REACHED       │ 0.000512995 │             │ 0.0327424    │"
      ]
     },
     "execution_count": 10,
     "metadata": {},
     "output_type": "execute_result"
    }
   ],
   "source": [
    "ENV[\"COLUMNS\"]=120\n",
    "df_res = DataFrame(\n",
    "    Parameter = [:k1, :k2, :k4, :k5, :k6, :k7, :k8, :k9, :k10, :k11, :k12, :k13, :k14, :k15, :k16, :k17, :k18, :k19], \n",
    "    Status_lower = [k.result[1].status for k in intervals],\n",
    "    Status_upper = [k.result[2].status for k in intervals],\n",
    "    CI_lower = [k.result[1].value for k in intervals],\n",
    "    CI_upper = [k.result[2].value for k in intervals],\n",
    "    Fitted_value = p,\n",
    "    Start_values = p_start,\n",
    "    Nominal_values = p0\n",
    ")\n",
    "df_res"
   ]
  },
  {
   "cell_type": "code",
   "execution_count": null,
   "metadata": {},
   "outputs": [],
   "source": []
  },
  {
   "cell_type": "code",
   "execution_count": null,
   "metadata": {},
   "outputs": [],
   "source": []
  }
 ],
 "metadata": {
  "@webio": {
   "lastCommId": null,
   "lastKernelId": null
  },
  "kernelspec": {
   "display_name": "Julia 1.2.0",
   "language": "julia",
   "name": "julia-1.2"
  },
  "language_info": {
   "file_extension": ".jl",
   "mimetype": "application/julia",
   "name": "julia",
   "version": "1.2.0"
  }
 },
 "nbformat": 4,
 "nbformat_minor": 2
}
